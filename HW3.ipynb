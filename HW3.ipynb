{
 "cells": [
  {
   "cell_type": "code",
   "execution_count": 285,
   "metadata": {},
   "outputs": [],
   "source": [
    "import numpy as np\n",
    "import pandas as pd\n",
    "from typing import List, Tuple\n",
    "from scipy.stats import probplot, ks_2samp,shapiro,kstest\n",
    "from sklearn.model_selection import cross_val_score,train_test_split\n",
    "import matplotlib\n",
    "import umap\n",
    "from scipy.stats import ks_2samp\n",
    "from sklearn.metrics import roc_auc_score,roc_curve\n",
    "import lightgbm as lgb\n",
    "import matplotlib.pyplot as plt\n",
    "import seaborn as sns\n",
    "from sklearn.preprocessing import StandardScaler,MinMaxScaler\n",
    "from statsmodels.stats.weightstats import _zconfint_generic, _tconfint_generic\n",
    "from sklearn.model_selection import KFold, StratifiedKFold,GroupKFold\n",
    "%matplotlib inline\n",
    "%config inlinebackend.figure_format = 'svg'"
   ]
  },
  {
   "cell_type": "code",
   "execution_count": 286,
   "metadata": {},
   "outputs": [],
   "source": [
    "def warn(*args, **kwargs):\n",
    "    pass\n",
    "import warnings\n",
    "warnings.warn = warn"
   ]
  },
  {
   "cell_type": "code",
   "execution_count": null,
   "metadata": {},
   "outputs": [],
   "source": []
  },
  {
   "cell_type": "markdown",
   "metadata": {},
   "source": [
    "Задание 1: сделать Hold-Out валидацию с разбиением, размер которого будет адеквтаным, по вашему мнению; разбиение проводить по id-транзакции (\n",
    "TransactionID\n",
    "), обучать модель градиетного бустинга любой реализации с подбором числа деревьев по early_stopping критерию до достижения сходимости. Оценить качество модели на валидационной выборке, оценить расхождение по сравнению с качеством на обучающей выборке и валидационной выборке. Оценить качество на ЛБ, сравнить с качеством на обучении и валидации. Сделать выводы."
   ]
  },
  {
   "cell_type": "code",
   "execution_count": null,
   "metadata": {},
   "outputs": [],
   "source": []
  },
  {
   "cell_type": "code",
   "execution_count": 309,
   "metadata": {},
   "outputs": [
    {
     "data": {
      "text/html": [
       "<div>\n",
       "<style scoped>\n",
       "    .dataframe tbody tr th:only-of-type {\n",
       "        vertical-align: middle;\n",
       "    }\n",
       "\n",
       "    .dataframe tbody tr th {\n",
       "        vertical-align: top;\n",
       "    }\n",
       "\n",
       "    .dataframe thead th {\n",
       "        text-align: right;\n",
       "    }\n",
       "</style>\n",
       "<table border=\"1\" class=\"dataframe\">\n",
       "  <thead>\n",
       "    <tr style=\"text-align: right;\">\n",
       "      <th></th>\n",
       "      <th>TransactionID</th>\n",
       "      <th>isFraud</th>\n",
       "      <th>TransactionDT</th>\n",
       "      <th>TransactionAmt</th>\n",
       "      <th>ProductCD</th>\n",
       "      <th>card1</th>\n",
       "      <th>card2</th>\n",
       "      <th>card3</th>\n",
       "      <th>card4</th>\n",
       "      <th>card5</th>\n",
       "      <th>...</th>\n",
       "      <th>V330</th>\n",
       "      <th>V331</th>\n",
       "      <th>V332</th>\n",
       "      <th>V333</th>\n",
       "      <th>V334</th>\n",
       "      <th>V335</th>\n",
       "      <th>V336</th>\n",
       "      <th>V337</th>\n",
       "      <th>V338</th>\n",
       "      <th>V339</th>\n",
       "    </tr>\n",
       "  </thead>\n",
       "  <tbody>\n",
       "    <tr>\n",
       "      <th>0</th>\n",
       "      <td>2987000</td>\n",
       "      <td>0</td>\n",
       "      <td>86400</td>\n",
       "      <td>68.50</td>\n",
       "      <td>W</td>\n",
       "      <td>13926</td>\n",
       "      <td>NaN</td>\n",
       "      <td>150.0</td>\n",
       "      <td>discover</td>\n",
       "      <td>142.0</td>\n",
       "      <td>...</td>\n",
       "      <td>NaN</td>\n",
       "      <td>NaN</td>\n",
       "      <td>NaN</td>\n",
       "      <td>NaN</td>\n",
       "      <td>NaN</td>\n",
       "      <td>NaN</td>\n",
       "      <td>NaN</td>\n",
       "      <td>NaN</td>\n",
       "      <td>NaN</td>\n",
       "      <td>NaN</td>\n",
       "    </tr>\n",
       "    <tr>\n",
       "      <th>1</th>\n",
       "      <td>2987001</td>\n",
       "      <td>0</td>\n",
       "      <td>86401</td>\n",
       "      <td>29.00</td>\n",
       "      <td>W</td>\n",
       "      <td>2755</td>\n",
       "      <td>404.0</td>\n",
       "      <td>150.0</td>\n",
       "      <td>mastercard</td>\n",
       "      <td>102.0</td>\n",
       "      <td>...</td>\n",
       "      <td>NaN</td>\n",
       "      <td>NaN</td>\n",
       "      <td>NaN</td>\n",
       "      <td>NaN</td>\n",
       "      <td>NaN</td>\n",
       "      <td>NaN</td>\n",
       "      <td>NaN</td>\n",
       "      <td>NaN</td>\n",
       "      <td>NaN</td>\n",
       "      <td>NaN</td>\n",
       "    </tr>\n",
       "    <tr>\n",
       "      <th>2</th>\n",
       "      <td>2987002</td>\n",
       "      <td>0</td>\n",
       "      <td>86469</td>\n",
       "      <td>59.00</td>\n",
       "      <td>W</td>\n",
       "      <td>4663</td>\n",
       "      <td>490.0</td>\n",
       "      <td>150.0</td>\n",
       "      <td>visa</td>\n",
       "      <td>166.0</td>\n",
       "      <td>...</td>\n",
       "      <td>NaN</td>\n",
       "      <td>NaN</td>\n",
       "      <td>NaN</td>\n",
       "      <td>NaN</td>\n",
       "      <td>NaN</td>\n",
       "      <td>NaN</td>\n",
       "      <td>NaN</td>\n",
       "      <td>NaN</td>\n",
       "      <td>NaN</td>\n",
       "      <td>NaN</td>\n",
       "    </tr>\n",
       "    <tr>\n",
       "      <th>3</th>\n",
       "      <td>2987003</td>\n",
       "      <td>0</td>\n",
       "      <td>86499</td>\n",
       "      <td>50.00</td>\n",
       "      <td>W</td>\n",
       "      <td>18132</td>\n",
       "      <td>567.0</td>\n",
       "      <td>150.0</td>\n",
       "      <td>mastercard</td>\n",
       "      <td>117.0</td>\n",
       "      <td>...</td>\n",
       "      <td>NaN</td>\n",
       "      <td>NaN</td>\n",
       "      <td>NaN</td>\n",
       "      <td>NaN</td>\n",
       "      <td>NaN</td>\n",
       "      <td>NaN</td>\n",
       "      <td>NaN</td>\n",
       "      <td>NaN</td>\n",
       "      <td>NaN</td>\n",
       "      <td>NaN</td>\n",
       "    </tr>\n",
       "    <tr>\n",
       "      <th>4</th>\n",
       "      <td>2987004</td>\n",
       "      <td>0</td>\n",
       "      <td>86506</td>\n",
       "      <td>50.00</td>\n",
       "      <td>H</td>\n",
       "      <td>4497</td>\n",
       "      <td>514.0</td>\n",
       "      <td>150.0</td>\n",
       "      <td>mastercard</td>\n",
       "      <td>102.0</td>\n",
       "      <td>...</td>\n",
       "      <td>0.0</td>\n",
       "      <td>0.0</td>\n",
       "      <td>0.0</td>\n",
       "      <td>0.0</td>\n",
       "      <td>0.0</td>\n",
       "      <td>0.0</td>\n",
       "      <td>0.0</td>\n",
       "      <td>0.0</td>\n",
       "      <td>0.0</td>\n",
       "      <td>0.0</td>\n",
       "    </tr>\n",
       "    <tr>\n",
       "      <th>...</th>\n",
       "      <td>...</td>\n",
       "      <td>...</td>\n",
       "      <td>...</td>\n",
       "      <td>...</td>\n",
       "      <td>...</td>\n",
       "      <td>...</td>\n",
       "      <td>...</td>\n",
       "      <td>...</td>\n",
       "      <td>...</td>\n",
       "      <td>...</td>\n",
       "      <td>...</td>\n",
       "      <td>...</td>\n",
       "      <td>...</td>\n",
       "      <td>...</td>\n",
       "      <td>...</td>\n",
       "      <td>...</td>\n",
       "      <td>...</td>\n",
       "      <td>...</td>\n",
       "      <td>...</td>\n",
       "      <td>...</td>\n",
       "      <td>...</td>\n",
       "    </tr>\n",
       "    <tr>\n",
       "      <th>179995</th>\n",
       "      <td>3166995</td>\n",
       "      <td>0</td>\n",
       "      <td>3958217</td>\n",
       "      <td>39.00</td>\n",
       "      <td>W</td>\n",
       "      <td>1877</td>\n",
       "      <td>310.0</td>\n",
       "      <td>150.0</td>\n",
       "      <td>mastercard</td>\n",
       "      <td>224.0</td>\n",
       "      <td>...</td>\n",
       "      <td>NaN</td>\n",
       "      <td>NaN</td>\n",
       "      <td>NaN</td>\n",
       "      <td>NaN</td>\n",
       "      <td>NaN</td>\n",
       "      <td>NaN</td>\n",
       "      <td>NaN</td>\n",
       "      <td>NaN</td>\n",
       "      <td>NaN</td>\n",
       "      <td>NaN</td>\n",
       "    </tr>\n",
       "    <tr>\n",
       "      <th>179996</th>\n",
       "      <td>3166996</td>\n",
       "      <td>0</td>\n",
       "      <td>3958237</td>\n",
       "      <td>59.95</td>\n",
       "      <td>W</td>\n",
       "      <td>10075</td>\n",
       "      <td>514.0</td>\n",
       "      <td>150.0</td>\n",
       "      <td>mastercard</td>\n",
       "      <td>224.0</td>\n",
       "      <td>...</td>\n",
       "      <td>NaN</td>\n",
       "      <td>NaN</td>\n",
       "      <td>NaN</td>\n",
       "      <td>NaN</td>\n",
       "      <td>NaN</td>\n",
       "      <td>NaN</td>\n",
       "      <td>NaN</td>\n",
       "      <td>NaN</td>\n",
       "      <td>NaN</td>\n",
       "      <td>NaN</td>\n",
       "    </tr>\n",
       "    <tr>\n",
       "      <th>179997</th>\n",
       "      <td>3166997</td>\n",
       "      <td>0</td>\n",
       "      <td>3958241</td>\n",
       "      <td>34.00</td>\n",
       "      <td>W</td>\n",
       "      <td>6053</td>\n",
       "      <td>122.0</td>\n",
       "      <td>150.0</td>\n",
       "      <td>mastercard</td>\n",
       "      <td>195.0</td>\n",
       "      <td>...</td>\n",
       "      <td>NaN</td>\n",
       "      <td>NaN</td>\n",
       "      <td>NaN</td>\n",
       "      <td>NaN</td>\n",
       "      <td>NaN</td>\n",
       "      <td>NaN</td>\n",
       "      <td>NaN</td>\n",
       "      <td>NaN</td>\n",
       "      <td>NaN</td>\n",
       "      <td>NaN</td>\n",
       "    </tr>\n",
       "    <tr>\n",
       "      <th>179998</th>\n",
       "      <td>3166998</td>\n",
       "      <td>0</td>\n",
       "      <td>3958260</td>\n",
       "      <td>59.00</td>\n",
       "      <td>W</td>\n",
       "      <td>7726</td>\n",
       "      <td>555.0</td>\n",
       "      <td>150.0</td>\n",
       "      <td>visa</td>\n",
       "      <td>226.0</td>\n",
       "      <td>...</td>\n",
       "      <td>NaN</td>\n",
       "      <td>NaN</td>\n",
       "      <td>NaN</td>\n",
       "      <td>NaN</td>\n",
       "      <td>NaN</td>\n",
       "      <td>NaN</td>\n",
       "      <td>NaN</td>\n",
       "      <td>NaN</td>\n",
       "      <td>NaN</td>\n",
       "      <td>NaN</td>\n",
       "    </tr>\n",
       "    <tr>\n",
       "      <th>179999</th>\n",
       "      <td>3166999</td>\n",
       "      <td>0</td>\n",
       "      <td>3958317</td>\n",
       "      <td>226.00</td>\n",
       "      <td>W</td>\n",
       "      <td>17480</td>\n",
       "      <td>528.0</td>\n",
       "      <td>150.0</td>\n",
       "      <td>visa</td>\n",
       "      <td>226.0</td>\n",
       "      <td>...</td>\n",
       "      <td>NaN</td>\n",
       "      <td>NaN</td>\n",
       "      <td>NaN</td>\n",
       "      <td>NaN</td>\n",
       "      <td>NaN</td>\n",
       "      <td>NaN</td>\n",
       "      <td>NaN</td>\n",
       "      <td>NaN</td>\n",
       "      <td>NaN</td>\n",
       "      <td>NaN</td>\n",
       "    </tr>\n",
       "  </tbody>\n",
       "</table>\n",
       "<p>180000 rows × 394 columns</p>\n",
       "</div>"
      ],
      "text/plain": [
       "        TransactionID  isFraud  TransactionDT  TransactionAmt ProductCD  \\\n",
       "0             2987000        0          86400           68.50         W   \n",
       "1             2987001        0          86401           29.00         W   \n",
       "2             2987002        0          86469           59.00         W   \n",
       "3             2987003        0          86499           50.00         W   \n",
       "4             2987004        0          86506           50.00         H   \n",
       "...               ...      ...            ...             ...       ...   \n",
       "179995        3166995        0        3958217           39.00         W   \n",
       "179996        3166996        0        3958237           59.95         W   \n",
       "179997        3166997        0        3958241           34.00         W   \n",
       "179998        3166998        0        3958260           59.00         W   \n",
       "179999        3166999        0        3958317          226.00         W   \n",
       "\n",
       "        card1  card2  card3       card4  card5  ... V330  V331  V332  V333  \\\n",
       "0       13926    NaN  150.0    discover  142.0  ...  NaN   NaN   NaN   NaN   \n",
       "1        2755  404.0  150.0  mastercard  102.0  ...  NaN   NaN   NaN   NaN   \n",
       "2        4663  490.0  150.0        visa  166.0  ...  NaN   NaN   NaN   NaN   \n",
       "3       18132  567.0  150.0  mastercard  117.0  ...  NaN   NaN   NaN   NaN   \n",
       "4        4497  514.0  150.0  mastercard  102.0  ...  0.0   0.0   0.0   0.0   \n",
       "...       ...    ...    ...         ...    ...  ...  ...   ...   ...   ...   \n",
       "179995   1877  310.0  150.0  mastercard  224.0  ...  NaN   NaN   NaN   NaN   \n",
       "179996  10075  514.0  150.0  mastercard  224.0  ...  NaN   NaN   NaN   NaN   \n",
       "179997   6053  122.0  150.0  mastercard  195.0  ...  NaN   NaN   NaN   NaN   \n",
       "179998   7726  555.0  150.0        visa  226.0  ...  NaN   NaN   NaN   NaN   \n",
       "179999  17480  528.0  150.0        visa  226.0  ...  NaN   NaN   NaN   NaN   \n",
       "\n",
       "        V334 V335 V336  V337  V338  V339  \n",
       "0        NaN  NaN  NaN   NaN   NaN   NaN  \n",
       "1        NaN  NaN  NaN   NaN   NaN   NaN  \n",
       "2        NaN  NaN  NaN   NaN   NaN   NaN  \n",
       "3        NaN  NaN  NaN   NaN   NaN   NaN  \n",
       "4        0.0  0.0  0.0   0.0   0.0   0.0  \n",
       "...      ...  ...  ...   ...   ...   ...  \n",
       "179995   NaN  NaN  NaN   NaN   NaN   NaN  \n",
       "179996   NaN  NaN  NaN   NaN   NaN   NaN  \n",
       "179997   NaN  NaN  NaN   NaN   NaN   NaN  \n",
       "179998   NaN  NaN  NaN   NaN   NaN   NaN  \n",
       "179999   NaN  NaN  NaN   NaN   NaN   NaN  \n",
       "\n",
       "[180000 rows x 394 columns]"
      ]
     },
     "execution_count": 309,
     "metadata": {},
     "output_type": "execute_result"
    }
   ],
   "source": [
    "train = pd.read_csv('assignment_2_train.csv')\n",
    "test = pd.read_csv('assignment_2_test.csv')\n",
    "train"
   ]
  },
  {
   "cell_type": "code",
   "execution_count": 451,
   "metadata": {},
   "outputs": [],
   "source": [
    "X=train.drop('isFraud', axis=1)\n",
    "y=train['isFraud']\n",
    "X_lb=test.drop('isFraud', axis=1)\n",
    "y_lb=test['isFraud']"
   ]
  },
  {
   "cell_type": "code",
   "execution_count": 464,
   "metadata": {},
   "outputs": [],
   "source": [
    "cat=X.select_dtypes(include='object').columns.to_list()\n",
    "num=X.select_dtypes(exclude='object').columns.to_list()\n",
    "X_cat=X.copy()\n",
    "X_cat[cat]=X_cat.select_dtypes(include='object').astype('category')\n",
    "X_lb[cat]=X_lb.select_dtypes(include='object').astype('category')\n",
    "X_train, X_val, y_train, y_val = train_test_split(X_cat, y, test_size=0.25, random_state=101)\n",
    "X_train.reset_index(drop=True, inplace=True)\n",
    "y_train.reset_index(drop=True, inplace=True)\n",
    "X_val.reset_index(drop=True, inplace=True)\n",
    "y_val.reset_index(drop=True, inplace=True)\n"
   ]
  },
  {
   "cell_type": "code",
   "execution_count": 290,
   "metadata": {},
   "outputs": [
    {
     "name": "stdout",
     "output_type": "stream",
     "text": [
      "Training until validation scores don't improve for 10 rounds\n",
      "[20]\ttraining's auc: 0.919864\ttraining's binary_logloss: 0.0633921\tvalid_1's auc: 0.877982\tvalid_1's binary_logloss: 0.102205\n",
      "[40]\ttraining's auc: 0.945544\ttraining's binary_logloss: 0.0527928\tvalid_1's auc: 0.891927\tvalid_1's binary_logloss: 0.0953291\n",
      "Did not meet early stopping. Best iteration is:\n",
      "[50]\ttraining's auc: 0.953273\ttraining's binary_logloss: 0.0495205\tvalid_1's auc: 0.896147\tvalid_1's binary_logloss: 0.0940025\n"
     ]
    },
    {
     "data": {
      "text/plain": [
       "LGBMClassifier(n_estimators=50)"
      ]
     },
     "execution_count": 290,
     "metadata": {},
     "output_type": "execute_result"
    }
   ],
   "source": [
    "m_lgb_2= lgb.LGBMClassifier(n_estimators=50)\n",
    "m_lgb_2.fit(\n",
    "    X_train, y_train,\n",
    "    eval_set=[(X_train, y_train), (X_val, y_val)],\n",
    "    eval_metric='auc',\n",
    "    early_stopping_rounds=10,\n",
    "    verbose=20)"
   ]
  },
  {
   "cell_type": "code",
   "execution_count": 291,
   "metadata": {},
   "outputs": [
    {
     "name": "stdout",
     "output_type": "stream",
     "text": [
      "roc_auc_train : 0.95\n",
      "roc_auc_val : 0.9\n",
      "roc_auc_lb : 0.86\n"
     ]
    }
   ],
   "source": [
    "pred_train=m_lgb_2.predict_proba(X_train)[:,1]\n",
    "pred_val=m_lgb_2.predict_proba(X_val)[:,1]\n",
    "pred_lb=m_lgb_2.predict_proba(X_lb)[:,1]\n",
    "\n",
    "roc_auc_train = roc_auc_score(y_train,pred_train)\n",
    "roc_auc_val = roc_auc_score(y_val,pred_val)\n",
    "roc_auc_lb = roc_auc_score(y_lb,pred_lb)\n",
    "\n",
    "print(f'roc_auc_train : {round(roc_auc_train,2)}')\n",
    "print(f'roc_auc_val : {round(roc_auc_val,2)}')\n",
    "print(f'roc_auc_lb : {round(roc_auc_lb,2)}')"
   ]
  },
  {
   "cell_type": "code",
   "execution_count": 292,
   "metadata": {},
   "outputs": [],
   "source": [
    "# Налицо переобучение"
   ]
  },
  {
   "cell_type": "markdown",
   "metadata": {},
   "source": [
    "Задание 2: сделать Hold-Out валидацию с разбиением на 3 выборки, разбиение проводить по id-транзакции (TransactionID), размер каждой выборки подобрать самостоятельно. Повторить процедуру из п.1. для каждой выборки."
   ]
  },
  {
   "cell_type": "code",
   "execution_count": 293,
   "metadata": {},
   "outputs": [],
   "source": [
    "X_train, X_test, y_train, y_test = train_test_split(X_train, y_train, test_size=0.3, random_state=101)\n",
    "X_train = X_train.reset_index(drop=True)\n",
    "y_train.reset_index(drop=True, inplace=True)\n",
    "X_test.reset_index(drop=True, inplace=True)\n",
    "y_test.reset_index(drop=True, inplace=True)"
   ]
  },
  {
   "cell_type": "code",
   "execution_count": 294,
   "metadata": {},
   "outputs": [
    {
     "name": "stdout",
     "output_type": "stream",
     "text": [
      "Training until validation scores don't improve for 10 rounds\n",
      "[20]\ttraining's auc: 0.92549\ttraining's binary_logloss: 0.0620453\tvalid_1's auc: 0.872664\tvalid_1's binary_logloss: 0.101817\n",
      "[40]\ttraining's auc: 0.953842\ttraining's binary_logloss: 0.0505961\tvalid_1's auc: 0.889415\tvalid_1's binary_logloss: 0.095807\n",
      "Did not meet early stopping. Best iteration is:\n",
      "[50]\ttraining's auc: 0.962942\ttraining's binary_logloss: 0.0468695\tvalid_1's auc: 0.892308\tvalid_1's binary_logloss: 0.0944726\n"
     ]
    },
    {
     "data": {
      "text/plain": [
       "LGBMClassifier(n_estimators=50)"
      ]
     },
     "execution_count": 294,
     "metadata": {},
     "output_type": "execute_result"
    }
   ],
   "source": [
    "m_lgb_3= lgb.LGBMClassifier(n_estimators=50)\n",
    "m_lgb_3.fit(\n",
    "    X_train, y_train,\n",
    "    eval_set=[(X_train, y_train), (X_val, y_val)],\n",
    "    eval_metric='auc',\n",
    "    early_stopping_rounds=10,\n",
    "    verbose=20)"
   ]
  },
  {
   "cell_type": "code",
   "execution_count": 295,
   "metadata": {},
   "outputs": [
    {
     "name": "stdout",
     "output_type": "stream",
     "text": [
      "roc_auc_train : 0.96\n",
      "roc_auc_val : 0.89\n",
      "roc_auc_test : 0.92\n",
      "roc_auc_lb : 0.87\n"
     ]
    }
   ],
   "source": [
    "pred_train=m_lgb_3.predict_proba(X_train)[:,1]\n",
    "pred_val=m_lgb_3.predict_proba(X_val)[:,1]\n",
    "pred_test=m_lgb_3.predict_proba(X_test)[:,1]\n",
    "pred_lb=m_lgb_3.predict_proba(X_lb)[:,1]\n",
    "\n",
    "roc_auc_train = roc_auc_score(y_train,pred_train)\n",
    "roc_auc_val = roc_auc_score(y_val,pred_val)\n",
    "roc_auc_test = roc_auc_score(y_test,pred_test)\n",
    "roc_auc_lb = roc_auc_score(y_lb,pred_lb)\n",
    "\n",
    "print(f'roc_auc_train : {round(roc_auc_train,2)}')\n",
    "print(f'roc_auc_val : {round(roc_auc_val,2)}')\n",
    "print(f'roc_auc_test : {round(roc_auc_test,2)}')\n",
    "print(f'roc_auc_lb : {round(roc_auc_lb,2)}')"
   ]
  },
  {
   "cell_type": "code",
   "execution_count": null,
   "metadata": {},
   "outputs": [],
   "source": []
  },
  {
   "cell_type": "markdown",
   "metadata": {},
   "source": [
    "Задание 3: построить доверительный интервал на данных из п.2 на основе бутстреп выборок, оценить качество модели на ЛБ относительно полученного доверительного интервала. Сделать выводы."
   ]
  },
  {
   "cell_type": "code",
   "execution_count": 296,
   "metadata": {},
   "outputs": [],
   "source": [
    "def create_bootstrap_samples(data: np.array, n_samples: int = 1000) -> np.array:\n",
    " \n",
    "    bootstrap_idx = np.random.randint(\n",
    "        low=0, high=len(data), size=(n_samples, len(data))\n",
    "    )\n",
    "    return bootstrap_idx\n",
    "\n",
    "\n",
    "def create_bootstrap_metrics(y_true: np.array,\n",
    "                             y_pred: np.array,\n",
    "                             metric: callable,\n",
    "                             n_samlpes: int = 1000) -> List[float]:\n",
    "   \n",
    "    scores = []\n",
    "\n",
    "    if isinstance(y_true, pd.Series):\n",
    "        y_true = y_true.values\n",
    "\n",
    "    bootstrap_idx = create_bootstrap_samples(y_true)\n",
    "    for idx in bootstrap_idx:\n",
    "        y_true_bootstrap = y_true[idx]\n",
    "        y_pred_bootstrap = y_pred[idx]\n",
    "\n",
    "        score = metric(y_true_bootstrap, y_pred_bootstrap)\n",
    "        scores.append(score)\n",
    "\n",
    "    return scores\n",
    "\n",
    "\n",
    "def calculate_confidence_interval(scores: list, conf_interval: float = 0.95) -> Tuple[float]:\n",
    "\n",
    "    left_bound = np.percentile(\n",
    "        scores, ((1 - conf_interval) / 2) * 100\n",
    "    )\n",
    "    right_bound = np.percentile(\n",
    "        scores, (conf_interval + ((1 - conf_interval) / 2)) * 100\n",
    "    )\n",
    "\n",
    "    return left_bound, right_bound"
   ]
  },
  {
   "cell_type": "code",
   "execution_count": 297,
   "metadata": {},
   "outputs": [
    {
     "name": "stdout",
     "output_type": "stream",
     "text": [
      "confidence_int_train : [0.958, 0.967]\n",
      "confidence_int_val : [0.882, 0.902]\n",
      "confidence_int_test : [0.911, 0.931]\n",
      "confidence_int_lb : [0.858, 0.872]\n"
     ]
    }
   ],
   "source": [
    "np.random.seed(101)\n",
    "scores_train = create_bootstrap_metrics(y_train, m_lgb_3.predict_proba(X_train)[:,1], roc_auc_score)\n",
    "scores_val = create_bootstrap_metrics(y_val, m_lgb_3.predict_proba(X_val)[:,1], roc_auc_score)\n",
    "scores_test= create_bootstrap_metrics(y_test, m_lgb_3.predict_proba(X_test)[:,1], roc_auc_score)\n",
    "scores_lb= create_bootstrap_metrics(y_lb, m_lgb_3.predict_proba(X_lb)[:,1], roc_auc_score)\n",
    "\n",
    "confidence_int_train = calculate_confidence_interval(scores_train)\n",
    "confidence_int_val = calculate_confidence_interval(scores_val)\n",
    "confidence_int_test = calculate_confidence_interval(scores_test)\n",
    "confidence_int_lb = calculate_confidence_interval(scores_lb)\n",
    "\n",
    "print(f'confidence_int_train : {list(map(lambda x: round(x,3),confidence_int_train))}')\n",
    "print(f'confidence_int_val : {list(map(lambda x: round(x,3),confidence_int_val))}')\n",
    "print(f'confidence_int_test : {list(map(lambda x: round(x,3),confidence_int_test))}')\n",
    "print(f'confidence_int_lb : {list(map(lambda x: round(x,3),confidence_int_lb))}')"
   ]
  },
  {
   "cell_type": "code",
   "execution_count": 298,
   "metadata": {},
   "outputs": [],
   "source": [
    "# Доверительные интервалы пересекаются только у val и test, что говорит о том, что распределения сильно отличаются,\n",
    "# что свидетельствует о том, что алгоритм не очень хорошо улавливает общие закономерности."
   ]
  },
  {
   "cell_type": "code",
   "execution_count": null,
   "metadata": {},
   "outputs": [],
   "source": []
  },
  {
   "cell_type": "markdown",
   "metadata": {},
   "source": [
    "Задание 4: выполнить Adversarial Validation, подобрать объекты из обучающей выборки, которые сильно похожи на объекты из\n",
    "assignment_2_test.csv\n",
    ", и использовать их в качестве валидационного набора. Оценить качество модели на ЛБ, сделать выводы о полученных результатах."
   ]
  },
  {
   "cell_type": "code",
   "execution_count": 358,
   "metadata": {},
   "outputs": [],
   "source": [
    "X_adv=pd.concat([X_train,X_lb])\n",
    "X_adv.R_emaildomain=X_adv.R_emaildomain.astype('category')\n",
    "X_adv.reset_index(drop=True, inplace=True)\n",
    "y_adv = np.hstack(\n",
    "    (np.ones(X_train.shape[0]), np.zeros(X_lb.shape[0])))"
   ]
  },
  {
   "cell_type": "code",
   "execution_count": 359,
   "metadata": {},
   "outputs": [
    {
     "name": "stdout",
     "output_type": "stream",
     "text": [
      "Training until validation scores don't improve for 10 rounds\n",
      "[20]\ttraining's auc: 1\ttraining's binary_logloss: 0.067019\n",
      "[40]\ttraining's auc: 1\ttraining's binary_logloss: 0.00921145\n",
      "Did not meet early stopping. Best iteration is:\n",
      "[49]\ttraining's auc: 1\ttraining's binary_logloss: 0.00394179\n"
     ]
    },
    {
     "data": {
      "text/plain": [
       "LGBMClassifier(n_estimators=50)"
      ]
     },
     "execution_count": 359,
     "metadata": {},
     "output_type": "execute_result"
    }
   ],
   "source": [
    "m_lgb_adv= lgb.LGBMClassifier(n_estimators=50)\n",
    "m_lgb_adv.fit(\n",
    "    X_adv, y_adv,\n",
    "    eval_set=[(X_adv, y_adv)],\n",
    "    eval_metric='auc',\n",
    "    early_stopping_rounds=10,\n",
    "    verbose=20)\n"
   ]
  },
  {
   "cell_type": "code",
   "execution_count": 360,
   "metadata": {},
   "outputs": [
    {
     "data": {
      "text/plain": [
       "0.999510024498775"
      ]
     },
     "execution_count": 360,
     "metadata": {},
     "output_type": "execute_result"
    }
   ],
   "source": [
    "cross_val_score(m_lgb_adv,X_adv,y_adv, scoring='roc_auc').mean()"
   ]
  },
  {
   "cell_type": "code",
   "execution_count": 302,
   "metadata": {},
   "outputs": [],
   "source": [
    "# Алгоритм однозначно разделяет выборки"
   ]
  },
  {
   "cell_type": "code",
   "execution_count": null,
   "metadata": {},
   "outputs": [],
   "source": []
  },
  {
   "cell_type": "code",
   "execution_count": 230,
   "metadata": {},
   "outputs": [
    {
     "data": {
      "text/plain": [
       "<AxesSubplot:title={'center':'Feature importance advance'}, xlabel='Feature importance', ylabel='Features'>"
      ]
     },
     "execution_count": 230,
     "metadata": {},
     "output_type": "execute_result"
    },
    {
     "data": {
      "image/png": "[encoded data removed]",
      "text/plain": [
       "<Figure size 432x288 with 1 Axes>"
      ]
     },
     "metadata": {
      "needs_background": "light"
     },
     "output_type": "display_data"
    }
   ],
   "source": [
    "lgb.plot_importance(m_lgb_adv,max_num_features=20, title='Feature importance advance')\n"
   ]
  },
  {
   "cell_type": "code",
   "execution_count": 231,
   "metadata": {},
   "outputs": [
    {
     "data": {
      "text/plain": [
       "<AxesSubplot:title={'center':'Feature importance hold_out_2'}, xlabel='Feature importance', ylabel='Features'>"
      ]
     },
     "execution_count": 231,
     "metadata": {},
     "output_type": "execute_result"
    },
    {
     "data": {
      "image/png": "[encoded data removed]",
      "text/plain": [
       "<Figure size 432x288 with 1 Axes>"
      ]
     },
     "metadata": {
      "needs_background": "light"
     },
     "output_type": "display_data"
    }
   ],
   "source": [
    "lgb.plot_importance(m_lgb_2,max_num_features=20,title='Feature importance hold_out_2')"
   ]
  },
  {
   "cell_type": "code",
   "execution_count": 232,
   "metadata": {},
   "outputs": [],
   "source": [
    "# Очевидно, что те признаки, по которым идет разделение выборок, \n",
    "# они же являются ключевыми в обучении алгоритма hold_out_2.\n",
    "# Удаление этих признаков, скорее всего, негативно скажется\n",
    "# на предсказательной способности алгоритма. Проверим."
   ]
  },
  {
   "cell_type": "code",
   "execution_count": 361,
   "metadata": {},
   "outputs": [],
   "source": [
    "def feat_imp(column_names, importances):\n",
    "    df = pd.DataFrame({'feature': column_names,\n",
    "                       'feature_importance': importances}) \\\n",
    "           .sort_values('feature_importance', ascending = False) \\\n",
    "           .reset_index(drop = True)\n",
    "    return df"
   ]
  },
  {
   "cell_type": "code",
   "execution_count": 362,
   "metadata": {},
   "outputs": [
    {
     "data": {
      "text/plain": [
       "array(['card2', 'card1', 'TransactionAmt', 'addr1', 'D15', 'dist1', 'D5',\n",
       "       'TransactionID', 'TransactionDT', 'D4', 'card5', 'D3', 'D11', 'D9',\n",
       "       'M5', 'D2', 'V307', 'D10', 'dist2', 'D1', 'V127', 'M7', 'C6',\n",
       "       'V130', 'M9', 'C13', 'M6', 'M4', 'V48', 'C2', 'V35', 'V96', 'V314',\n",
       "       'V282', 'V75', 'V221', 'V12', 'C9', 'D8', 'V131', 'V310', 'V50',\n",
       "       'V124', 'V62', 'V29', 'M3', 'V53', 'V308', 'V20', 'V10', 'V315',\n",
       "       'V36', 'V313', 'V312', 'V39', 'V261', 'D7', 'M8', 'V49', 'V100',\n",
       "       'V56', 'C12', 'V76', 'V69', 'V59', 'C1', 'V291', 'V37', 'V317',\n",
       "       'V5', 'V294', 'V38', 'V285', 'D6', 'V87', 'V129', 'V45', 'C14',\n",
       "       'M2', 'C10', 'V13', 'V99', 'V70', 'V144', 'V136', 'V61', 'V287',\n",
       "       'V270', 'V101', 'V139', 'V218', 'V54', 'V217', 'C5', 'V26', 'V102',\n",
       "       'V85', 'V167', 'V203', 'V43', 'V6', 'V260', 'V306', 'V316', 'V11',\n",
       "       'V91', 'V309', 'V242', 'V244', 'V227', 'V336', 'V228', 'V229',\n",
       "       'V234', 'V243', 'V230', 'V241', 'V231', 'V240', 'V337', 'V235',\n",
       "       'V239', 'V236', 'V238', 'V233', 'V232', 'V237', 'V215', 'V226',\n",
       "       'V195', 'V202', 'V201', 'V200', 'V199', 'V198', 'V197', 'V196',\n",
       "       'V194', 'V225', 'V193', 'V192', 'V191', 'V190', 'V189', 'V188',\n",
       "       'V187', 'V204', 'V205', 'V206', 'V207', 'V338', 'V224', 'V223',\n",
       "       'V222', 'V220', 'V219', 'V216', 'V246', 'V214', 'V213', 'V212',\n",
       "       'V211', 'V210', 'V209', 'V208', 'V245', 'V269', 'V247', 'V333',\n",
       "       'V303', 'V302', 'V301', 'V300', 'V299', 'V298', 'V297', 'V305',\n",
       "       'V296', 'V295', 'V293', 'V292', 'V334', 'V290', 'V304', 'V332',\n",
       "       'V288', 'V329', 'V327', 'V326', 'V325', 'V324', 'V323', 'V328',\n",
       "       'V330', 'V311', 'V331', 'V322', 'V321', 'V320', 'V319'],\n",
       "      dtype=object)"
      ]
     },
     "execution_count": 362,
     "metadata": {},
     "output_type": "execute_result"
    }
   ],
   "source": [
    "feat_import=feat_imp(m_lgb_adv.feature_name_, m_lgb_adv.feature_importances_)\n",
    "feat_diff = feat_import.feature[:200].values\n",
    "feat_diff"
   ]
  },
  {
   "cell_type": "code",
   "execution_count": 363,
   "metadata": {},
   "outputs": [
    {
     "data": {
      "text/html": [
       "<div>\n",
       "<style scoped>\n",
       "    .dataframe tbody tr th:only-of-type {\n",
       "        vertical-align: middle;\n",
       "    }\n",
       "\n",
       "    .dataframe tbody tr th {\n",
       "        vertical-align: top;\n",
       "    }\n",
       "\n",
       "    .dataframe thead th {\n",
       "        text-align: right;\n",
       "    }\n",
       "</style>\n",
       "<table border=\"1\" class=\"dataframe\">\n",
       "  <thead>\n",
       "    <tr style=\"text-align: right;\">\n",
       "      <th></th>\n",
       "      <th>feature</th>\n",
       "      <th>feature_importance</th>\n",
       "    </tr>\n",
       "  </thead>\n",
       "  <tbody>\n",
       "    <tr>\n",
       "      <th>0</th>\n",
       "      <td>card2</td>\n",
       "      <td>125</td>\n",
       "    </tr>\n",
       "    <tr>\n",
       "      <th>1</th>\n",
       "      <td>card1</td>\n",
       "      <td>120</td>\n",
       "    </tr>\n",
       "    <tr>\n",
       "      <th>2</th>\n",
       "      <td>TransactionAmt</td>\n",
       "      <td>111</td>\n",
       "    </tr>\n",
       "    <tr>\n",
       "      <th>3</th>\n",
       "      <td>addr1</td>\n",
       "      <td>107</td>\n",
       "    </tr>\n",
       "    <tr>\n",
       "      <th>4</th>\n",
       "      <td>D15</td>\n",
       "      <td>88</td>\n",
       "    </tr>\n",
       "    <tr>\n",
       "      <th>...</th>\n",
       "      <td>...</td>\n",
       "      <td>...</td>\n",
       "    </tr>\n",
       "    <tr>\n",
       "      <th>388</th>\n",
       "      <td>V122</td>\n",
       "      <td>0</td>\n",
       "    </tr>\n",
       "    <tr>\n",
       "      <th>389</th>\n",
       "      <td>V121</td>\n",
       "      <td>0</td>\n",
       "    </tr>\n",
       "    <tr>\n",
       "      <th>390</th>\n",
       "      <td>V120</td>\n",
       "      <td>0</td>\n",
       "    </tr>\n",
       "    <tr>\n",
       "      <th>391</th>\n",
       "      <td>V119</td>\n",
       "      <td>0</td>\n",
       "    </tr>\n",
       "    <tr>\n",
       "      <th>392</th>\n",
       "      <td>V339</td>\n",
       "      <td>0</td>\n",
       "    </tr>\n",
       "  </tbody>\n",
       "</table>\n",
       "<p>393 rows × 2 columns</p>\n",
       "</div>"
      ],
      "text/plain": [
       "            feature  feature_importance\n",
       "0             card2                 125\n",
       "1             card1                 120\n",
       "2    TransactionAmt                 111\n",
       "3             addr1                 107\n",
       "4               D15                  88\n",
       "..              ...                 ...\n",
       "388            V122                   0\n",
       "389            V121                   0\n",
       "390            V120                   0\n",
       "391            V119                   0\n",
       "392            V339                   0\n",
       "\n",
       "[393 rows x 2 columns]"
      ]
     },
     "execution_count": 363,
     "metadata": {},
     "output_type": "execute_result"
    }
   ],
   "source": [
    "feat_import"
   ]
  },
  {
   "cell_type": "code",
   "execution_count": 364,
   "metadata": {},
   "outputs": [],
   "source": [
    "X_adv=pd.concat([X_train.drop(feat_diff,axis=1),X_lb.drop(feat_diff,axis=1)])\n",
    "X_adv.R_emaildomain=X_adv.R_emaildomain.astype('category')\n",
    "X_adv.reset_index(drop=True, inplace=True)\n",
    "y_adv = np.hstack(\n",
    "    (np.ones(X_train.shape[0]), np.zeros(X_lb.shape[0])))"
   ]
  },
  {
   "cell_type": "code",
   "execution_count": 365,
   "metadata": {},
   "outputs": [
    {
     "name": "stdout",
     "output_type": "stream",
     "text": [
      "Training until validation scores don't improve for 10 rounds\n",
      "[20]\ttraining's auc: 0.795496\ttraining's binary_logloss: 0.53952\n",
      "[40]\ttraining's auc: 0.803788\ttraining's binary_logloss: 0.523788\n",
      "Did not meet early stopping. Best iteration is:\n",
      "[50]\ttraining's auc: 0.80642\ttraining's binary_logloss: 0.520328\n"
     ]
    },
    {
     "data": {
      "text/plain": [
       "LGBMClassifier(n_estimators=50)"
      ]
     },
     "execution_count": 365,
     "metadata": {},
     "output_type": "execute_result"
    }
   ],
   "source": [
    "m_lgb_adv= lgb.LGBMClassifier(n_estimators=50)\n",
    "m_lgb_adv.fit(\n",
    "    X_adv, y_adv,\n",
    "    eval_set=[(X_adv, y_adv)],\n",
    "    eval_metric='auc',\n",
    "    early_stopping_rounds=10,\n",
    "    verbose=20)\n"
   ]
  },
  {
   "cell_type": "code",
   "execution_count": 366,
   "metadata": {},
   "outputs": [
    {
     "data": {
      "text/plain": [
       "0.7483646282264684"
      ]
     },
     "execution_count": 366,
     "metadata": {},
     "output_type": "execute_result"
    }
   ],
   "source": [
    "cross_val_score(m_lgb_adv,X_adv,y_adv, scoring='roc_auc').mean()"
   ]
  },
  {
   "cell_type": "code",
   "execution_count": 367,
   "metadata": {},
   "outputs": [],
   "source": [
    "X_train_adv = X_train.drop(feat_diff,axis=1)\n",
    "X_lb_adv = X_lb.drop(feat_diff,axis=1)\n",
    "X_val_adv = X_val.drop(feat_diff,axis=1)"
   ]
  },
  {
   "cell_type": "code",
   "execution_count": 368,
   "metadata": {},
   "outputs": [
    {
     "name": "stdout",
     "output_type": "stream",
     "text": [
      "Training until validation scores don't improve for 10 rounds\n",
      "[20]\ttraining's auc: 0.885823\ttraining's binary_logloss: 0.0726889\tvalid_1's auc: 0.84408\tvalid_1's binary_logloss: 0.107508\n",
      "[40]\ttraining's auc: 0.902369\ttraining's binary_logloss: 0.0660364\tvalid_1's auc: 0.856197\tvalid_1's binary_logloss: 0.103937\n",
      "Did not meet early stopping. Best iteration is:\n",
      "[50]\ttraining's auc: 0.910111\ttraining's binary_logloss: 0.0637665\tvalid_1's auc: 0.860063\tvalid_1's binary_logloss: 0.102732\n"
     ]
    },
    {
     "data": {
      "text/plain": [
       "LGBMClassifier(n_estimators=50)"
      ]
     },
     "execution_count": 368,
     "metadata": {},
     "output_type": "execute_result"
    }
   ],
   "source": [
    "m_lgb_2= lgb.LGBMClassifier(n_estimators=50)\n",
    "m_lgb_2.fit(\n",
    "    X_train_adv, y_train,\n",
    "    eval_set=[(X_train_adv, y_train), (X_val_adv, y_val)],\n",
    "    eval_metric='auc',\n",
    "    early_stopping_rounds=10,\n",
    "    verbose=20)"
   ]
  },
  {
   "cell_type": "code",
   "execution_count": 369,
   "metadata": {},
   "outputs": [
    {
     "name": "stdout",
     "output_type": "stream",
     "text": [
      "roc_auc_train : 0.91\n",
      "roc_auc_val : 0.86\n",
      "roc_auc_lb : 0.83\n"
     ]
    }
   ],
   "source": [
    "pred_train=m_lgb_2.predict_proba(X_train_adv)[:,1]\n",
    "pred_val=m_lgb_2.predict_proba(X_val_adv)[:,1]\n",
    "pred_lb=m_lgb_2.predict_proba(X_lb_adv)[:,1]\n",
    "\n",
    "roc_auc_train = roc_auc_score(y_train,pred_train)\n",
    "roc_auc_val = roc_auc_score(y_val,pred_val)\n",
    "roc_auc_lb = roc_auc_score(y_lb,pred_lb)\n",
    "\n",
    "print(f'roc_auc_train : {round(roc_auc_train,2)}')\n",
    "print(f'roc_auc_val : {round(roc_auc_val,2)}')\n",
    "print(f'roc_auc_lb : {round(roc_auc_lb,2)}')"
   ]
  },
  {
   "cell_type": "code",
   "execution_count": 242,
   "metadata": {},
   "outputs": [],
   "source": [
    "# Из имеющихся признаков сложно подобрать похожие, которые бы давали приемлемую итоговую метрику.\n",
    "# Нужно каким-то образом модифицировать признаковое пространство."
   ]
  },
  {
   "cell_type": "code",
   "execution_count": null,
   "metadata": {},
   "outputs": [],
   "source": []
  },
  {
   "cell_type": "markdown",
   "metadata": {},
   "source": [
    "Задание 5: сделать KFold / StratifiedKFold валидацию (на ваше усмотрение), оценить получаемые качество и разброс по метрике качества. Сделать выводы об устойчивости кросс-валидации, сходимости оценки на кросс-валидации и отложенном наборе данных; Оценить качество на ЛБ, сделать выводы."
   ]
  },
  {
   "cell_type": "code",
   "execution_count": null,
   "metadata": {},
   "outputs": [],
   "source": []
  },
  {
   "cell_type": "code",
   "execution_count": 454,
   "metadata": {},
   "outputs": [],
   "source": [
    "def make_cross_validation(X: pd.DataFrame,\n",
    "                          y: pd.Series,\n",
    "                          estimator: object,\n",
    "                          metric: callable,\n",
    "                          cv_strategy,\n",
    "                          groups=None):\n",
    " \n",
    "    estimators, fold_train_scores, fold_valid_scores, fold_lb_scores = [], [], [], []\n",
    "    oof_predictions_val = np.zeros(X.shape[0])\n",
    "    oof_predictions_lb = []\n",
    "\n",
    "    for fold_number, (train_idx, valid_idx) in enumerate(cv_strategy.split(X, y,groups=groups)):\n",
    "        x_train, x_valid = X.loc[train_idx], X.loc[valid_idx]\n",
    "        y_train, y_valid = y.loc[train_idx], y.loc[valid_idx]\n",
    "        \n",
    "\n",
    "        estimator.fit(x_train, y_train)\n",
    "        y_train_pred = estimator.predict_proba(x_train)[:,1]\n",
    "        y_valid_pred = estimator.predict_proba(x_valid)[:,1]\n",
    "        y_lb_pred = estimator.predict_proba(X_lb)[:,1]\n",
    "        \n",
    "        \n",
    "        fold_train_scores.append(metric(y_train, y_train_pred))\n",
    "        fold_valid_scores.append(metric(y_valid, y_valid_pred))\n",
    "        fold_lb_scores.append(metric(y_lb, y_lb_pred))\n",
    "        oof_predictions_val[valid_idx] = y_valid_pred\n",
    "\n",
    "        msg = (\n",
    "            f\"Fold: {fold_number+1}, train-observations = {len(train_idx)}, \"\n",
    "            f\"valid-observations = {len(valid_idx)}\\n\"\n",
    "            f\"train-score = {round(fold_train_scores[fold_number], 4)}, \"\n",
    "            f\"valid-score = {round(fold_valid_scores[fold_number], 4)}, \"\n",
    "            f\"lb-score = {round(fold_lb_scores[fold_number], 4)}\"\n",
    "        )\n",
    "        print(msg)\n",
    "        print(\"=\"*69)\n",
    "        estimators.append(estimator)\n",
    "\n",
    "    oof_score_val = metric(y, oof_predictions_val)\n",
    "#     oof_score_lb = np.mean(fold_lb_scores)\n",
    "    print(f\"CV-results train: {round(np.mean(fold_train_scores), 4)} +/- {round(np.std(fold_train_scores), 3)}\")\n",
    "    print(f\"CV-results valid: {round(np.mean(fold_valid_scores), 4)} +/- {round(np.std(fold_valid_scores), 3)}\")\n",
    "    print(f\"CV-results lb: {round(np.mean(fold_lb_scores), 4)} +/- {round(np.std(fold_lb_scores), 3)}\")        \n",
    "    print(f\"OOF-score_val = {round(oof_score_val, 4)}\")\n",
    "#     print(f\"OOF-score_lb = {round(oof_score_lb, 4)}\")\n",
    "\n",
    "    return estimators, oof_score_val, fold_train_scores, fold_valid_scores,fold_lb_scores, oof_predictions_val, oof_predictions_lb"
   ]
  },
  {
   "cell_type": "code",
   "execution_count": 455,
   "metadata": {},
   "outputs": [
    {
     "name": "stdout",
     "output_type": "stream",
     "text": [
      "Fold: 1, train-observations = 144000, valid-observations = 36000\n",
      "train-score = 0.9546, valid-score = 0.896, lb-score = 0.8616\n",
      "=====================================================================\n",
      "Fold: 2, train-observations = 144000, valid-observations = 36000\n",
      "train-score = 0.9536, valid-score = 0.9092, lb-score = 0.8637\n",
      "=====================================================================\n",
      "Fold: 3, train-observations = 144000, valid-observations = 36000\n",
      "train-score = 0.9533, valid-score = 0.9094, lb-score = 0.8632\n",
      "=====================================================================\n",
      "Fold: 4, train-observations = 144000, valid-observations = 36000\n",
      "train-score = 0.951, valid-score = 0.9029, lb-score = 0.8613\n",
      "=====================================================================\n",
      "Fold: 5, train-observations = 144000, valid-observations = 36000\n",
      "train-score = 0.9529, valid-score = 0.9006, lb-score = 0.8636\n",
      "=====================================================================\n",
      "CV-results train: 0.9531 +/- 0.001\n",
      "CV-results valid: 0.9036 +/- 0.005\n",
      "CV-results lb: 0.8627 +/- 0.001\n",
      "OOF-score_val = 0.903\n"
     ]
    }
   ],
   "source": [
    "m_lgb = lgb.LGBMClassifier(n_estimators=50)\n",
    "cv_strategy = KFold(n_splits=5, random_state=1)\n",
    "\n",
    "estimators, oof_score, fold_train_scores, fold_valid_scores,fold_lb_scores, oof_predictions_val,oof_predictions_lb  = make_cross_validation(\n",
    "    X_lgbm_cat, y, m_lgb, metric=roc_auc_score, cv_strategy=cv_strategy\n",
    ")"
   ]
  },
  {
   "cell_type": "code",
   "execution_count": null,
   "metadata": {},
   "outputs": [],
   "source": [
    "# Валидация стабильна на всех выборках, отклонение менее 1%."
   ]
  },
  {
   "cell_type": "code",
   "execution_count": null,
   "metadata": {},
   "outputs": [],
   "source": []
  },
  {
   "cell_type": "markdown",
   "metadata": {},
   "source": [
    "Задание 6 (опциональное): сделать Hold-Out валидацию по времени (\n",
    "TransactionDT\n",
    "), повторить процедуры из п.1 / п.2 (на ваш выбор). Построить доверительный интервал, сравнить качество на ЛБ выборке с полученным доверительным интервалом. Сделать выводы."
   ]
  },
  {
   "cell_type": "code",
   "execution_count": 352,
   "metadata": {},
   "outputs": [],
   "source": [
    "\n",
    "\n",
    "train_DT=train.sort_values('TransactionDT')\n",
    "\n",
    "X=train_DT.drop('isFraud', axis=1)\n",
    "y=train_DT['isFraud']\n",
    "X_lb=test.drop('isFraud', axis=1)\n",
    "y_lb=test['isFraud']"
   ]
  },
  {
   "cell_type": "code",
   "execution_count": 353,
   "metadata": {},
   "outputs": [],
   "source": [
    "\n",
    "X[cat]=X[cat].select_dtypes(include='object').astype('category')\n",
    "X_lb[cat]=X_lb.select_dtypes(include='object').astype('category')\n",
    "X_train, X_val, y_train, y_val = train_test_split(X, y, test_size=0.25,shuffle=False, random_state=101)\n",
    "X_train.reset_index(inplace=True, drop=True)\n",
    "y_train.reset_index(inplace=True, drop=True)\n",
    "X_val.reset_index(inplace=True, drop=True)\n",
    "y_val.reset_index(inplace=True, drop=True)\n"
   ]
  },
  {
   "cell_type": "code",
   "execution_count": 354,
   "metadata": {},
   "outputs": [
    {
     "name": "stdout",
     "output_type": "stream",
     "text": [
      "Training until validation scores don't improve for 10 rounds\n",
      "[20]\ttraining's auc: 0.919864\ttraining's binary_logloss: 0.0633921\tvalid_1's auc: 0.877982\tvalid_1's binary_logloss: 0.102205\n",
      "[40]\ttraining's auc: 0.945544\ttraining's binary_logloss: 0.0527928\tvalid_1's auc: 0.891927\tvalid_1's binary_logloss: 0.0953291\n",
      "Did not meet early stopping. Best iteration is:\n",
      "[50]\ttraining's auc: 0.953273\ttraining's binary_logloss: 0.0495205\tvalid_1's auc: 0.896147\tvalid_1's binary_logloss: 0.0940025\n"
     ]
    },
    {
     "data": {
      "text/plain": [
       "LGBMClassifier(n_estimators=50, objective='binary')"
      ]
     },
     "execution_count": 354,
     "metadata": {},
     "output_type": "execute_result"
    }
   ],
   "source": [
    "m_lgb_t= lgb.LGBMClassifier(n_estimators=50,objective = 'binary',boosting_type=\"gbdt\")\n",
    "m_lgb_t.fit(\n",
    "X_train, y_train,\n",
    "eval_set=[(X_train, y_train), (X_val, y_val)],\n",
    "eval_metric='auc',\n",
    "early_stopping_rounds=10,\n",
    "verbose=20)"
   ]
  },
  {
   "cell_type": "code",
   "execution_count": 355,
   "metadata": {},
   "outputs": [
    {
     "name": "stdout",
     "output_type": "stream",
     "text": [
      "roc_auc_train : 0.95\n",
      "roc_auc_val : 0.9\n",
      "roc_auc_lb : 0.86\n"
     ]
    }
   ],
   "source": [
    "pred_train=m_lgb_t.predict_proba(X_train)[:,1]\n",
    "pred_val=m_lgb_t.predict_proba(X_val)[:,1]\n",
    "pred_lb=m_lgb_t.predict_proba(X_lb)[:,1]\n",
    "\n",
    "roc_auc_train = roc_auc_score(y_train,pred_train)\n",
    "roc_auc_val = roc_auc_score(y_val,pred_val)\n",
    "roc_auc_lb = roc_auc_score(y_lb,pred_lb)\n",
    "\n",
    "print(f'roc_auc_train : {round(roc_auc_train,2)}')\n",
    "print(f'roc_auc_val : {round(roc_auc_val,2)}')\n",
    "print(f'roc_auc_lb : {round(roc_auc_lb,2)}')"
   ]
  },
  {
   "cell_type": "code",
   "execution_count": 266,
   "metadata": {},
   "outputs": [],
   "source": [
    "# Ничего особенного"
   ]
  },
  {
   "cell_type": "code",
   "execution_count": null,
   "metadata": {},
   "outputs": [],
   "source": []
  },
  {
   "cell_type": "markdown",
   "metadata": {},
   "source": [
    "Задание 7 (совсем опциональное): в данном наборе данных у нас есть ID-транзакции (\n",
    "TransactionID\n",
    ") и время транзакции (\n",
    "TransactionDT\n",
    "), но отсутствует ID-клиента, который совершал транзакции. Кажется, что в этой задаче валидация по клиенту работала бы хорошо. Предложить критерий, по которому можно выделить клиентов и сделать п.5, используя созданное определение клиента, используя валидацию по клиенту (\n",
    "GroupKFold\n",
    ")."
   ]
  },
  {
   "cell_type": "code",
   "execution_count": 211,
   "metadata": {},
   "outputs": [],
   "source": [
    "# Признаками, несущими в себе персонализированную информацию, являются признаки группы card, \n",
    "# хотя я не знаю точно,что они означают. Попробуем выделить клиентов (или группы клиентов)\n",
    "# на основе признака card1"
   ]
  },
  {
   "cell_type": "code",
   "execution_count": null,
   "metadata": {},
   "outputs": [],
   "source": []
  },
  {
   "cell_type": "code",
   "execution_count": 465,
   "metadata": {},
   "outputs": [
    {
     "name": "stdout",
     "output_type": "stream",
     "text": [
      "Fold: 1, train-observations = 144000, valid-observations = 36000\n",
      "train-score = 0.9534, valid-score = 0.8601, lb-score = 0.8619\n",
      "=====================================================================\n",
      "Fold: 2, train-observations = 144000, valid-observations = 36000\n",
      "train-score = 0.9565, valid-score = 0.875, lb-score = 0.8593\n",
      "=====================================================================\n",
      "Fold: 3, train-observations = 144000, valid-observations = 36000\n",
      "train-score = 0.957, valid-score = 0.8981, lb-score = 0.8555\n",
      "=====================================================================\n",
      "Fold: 4, train-observations = 144000, valid-observations = 36000\n",
      "train-score = 0.9527, valid-score = 0.911, lb-score = 0.8624\n",
      "=====================================================================\n",
      "Fold: 5, train-observations = 144000, valid-observations = 36000\n",
      "train-score = 0.9549, valid-score = 0.8635, lb-score = 0.8668\n",
      "=====================================================================\n",
      "CV-results train: 0.9549 +/- 0.002\n",
      "CV-results valid: 0.8815 +/- 0.02\n",
      "CV-results lb: 0.8612 +/- 0.004\n",
      "OOF-score_val = 0.8858\n"
     ]
    }
   ],
   "source": [
    "m_lgb_ind= lgb.LGBMClassifier(n_estimators=50,objective = 'binary',boosting_type=\"gbdt\")\n",
    "cv_strategy = GroupKFold(n_splits=5)\n",
    "groups=X['card1']\n",
    "estimators, oof_score, fold_train_scores, fold_valid_scores,fold_lb_scores, oof_predictions_val,oof_predictions_lb  = make_cross_validation(\n",
    "    X_cat, y, m_lgb_ind,roc_auc_score,cv_strategy,groups)"
   ]
  },
  {
   "cell_type": "code",
   "execution_count": 466,
   "metadata": {},
   "outputs": [],
   "source": [
    "# Значимого улучшения модели не наблюдается. \n",
    "# Можно рассмотреть в качестве группового комбинацию признаков группы card и R_emaildomain"
   ]
  },
  {
   "cell_type": "code",
   "execution_count": null,
   "metadata": {},
   "outputs": [],
   "source": []
  }
 ],
 "metadata": {
  "kernelspec": {
   "display_name": "Python 3",
   "language": "python",
   "name": "python3"
  },
  "language_info": {
   "codemirror_mode": {
    "name": "ipython",
    "version": 3
   },
   "file_extension": ".py",
   "mimetype": "text/x-python",
   "name": "python",
   "nbconvert_exporter": "python",
   "pygments_lexer": "ipython3",
   "version": "3.8.5"
  }
 },
 "nbformat": 4,
 "nbformat_minor": 4
}
