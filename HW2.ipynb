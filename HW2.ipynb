{
 "cells": [
  {
   "cell_type": "code",
   "execution_count": 652,
   "metadata": {},
   "outputs": [],
   "source": [
    "import warnings\n",
    "import numpy as np\n",
    "import pandas as pd\n",
    "import catboost as cb\n",
    "import matplotlib.pyplot as plt\n",
    "import lightgbm as lgb\n",
    "import xgboost as xgb\n",
    "import seaborn as sns\n",
    "from sklearn.model_selection import train_test_split\n",
    "from sklearn.metrics import roc_auc_score,roc_curve\n",
    "from sklearn.model_selection import StratifiedKFold\n",
    "%matplotlib inline\n",
    "%config inlinebackend.figure_format = 'svg'\n",
    "\n",
    "warnings.simplefilter(\"ignore\")"
   ]
  },
  {
   "cell_type": "code",
   "execution_count": 597,
   "metadata": {},
   "outputs": [
    {
     "data": {
      "text/html": [
       "<div>\n",
       "<style scoped>\n",
       "    .dataframe tbody tr th:only-of-type {\n",
       "        vertical-align: middle;\n",
       "    }\n",
       "\n",
       "    .dataframe tbody tr th {\n",
       "        vertical-align: top;\n",
       "    }\n",
       "\n",
       "    .dataframe thead th {\n",
       "        text-align: right;\n",
       "    }\n",
       "</style>\n",
       "<table border=\"1\" class=\"dataframe\">\n",
       "  <thead>\n",
       "    <tr style=\"text-align: right;\">\n",
       "      <th></th>\n",
       "      <th>TransactionID</th>\n",
       "      <th>isFraud</th>\n",
       "      <th>TransactionDT</th>\n",
       "      <th>TransactionAmt</th>\n",
       "      <th>ProductCD</th>\n",
       "      <th>card1</th>\n",
       "      <th>card2</th>\n",
       "      <th>card3</th>\n",
       "      <th>card4</th>\n",
       "      <th>card5</th>\n",
       "      <th>...</th>\n",
       "      <th>V330</th>\n",
       "      <th>V331</th>\n",
       "      <th>V332</th>\n",
       "      <th>V333</th>\n",
       "      <th>V334</th>\n",
       "      <th>V335</th>\n",
       "      <th>V336</th>\n",
       "      <th>V337</th>\n",
       "      <th>V338</th>\n",
       "      <th>V339</th>\n",
       "    </tr>\n",
       "  </thead>\n",
       "  <tbody>\n",
       "    <tr>\n",
       "      <th>0</th>\n",
       "      <td>2987000</td>\n",
       "      <td>0</td>\n",
       "      <td>86400</td>\n",
       "      <td>68.50</td>\n",
       "      <td>W</td>\n",
       "      <td>13926</td>\n",
       "      <td>NaN</td>\n",
       "      <td>150.0</td>\n",
       "      <td>discover</td>\n",
       "      <td>142.0</td>\n",
       "      <td>...</td>\n",
       "      <td>NaN</td>\n",
       "      <td>NaN</td>\n",
       "      <td>NaN</td>\n",
       "      <td>NaN</td>\n",
       "      <td>NaN</td>\n",
       "      <td>NaN</td>\n",
       "      <td>NaN</td>\n",
       "      <td>NaN</td>\n",
       "      <td>NaN</td>\n",
       "      <td>NaN</td>\n",
       "    </tr>\n",
       "    <tr>\n",
       "      <th>1</th>\n",
       "      <td>2987001</td>\n",
       "      <td>0</td>\n",
       "      <td>86401</td>\n",
       "      <td>29.00</td>\n",
       "      <td>W</td>\n",
       "      <td>2755</td>\n",
       "      <td>404.0</td>\n",
       "      <td>150.0</td>\n",
       "      <td>mastercard</td>\n",
       "      <td>102.0</td>\n",
       "      <td>...</td>\n",
       "      <td>NaN</td>\n",
       "      <td>NaN</td>\n",
       "      <td>NaN</td>\n",
       "      <td>NaN</td>\n",
       "      <td>NaN</td>\n",
       "      <td>NaN</td>\n",
       "      <td>NaN</td>\n",
       "      <td>NaN</td>\n",
       "      <td>NaN</td>\n",
       "      <td>NaN</td>\n",
       "    </tr>\n",
       "    <tr>\n",
       "      <th>2</th>\n",
       "      <td>2987002</td>\n",
       "      <td>0</td>\n",
       "      <td>86469</td>\n",
       "      <td>59.00</td>\n",
       "      <td>W</td>\n",
       "      <td>4663</td>\n",
       "      <td>490.0</td>\n",
       "      <td>150.0</td>\n",
       "      <td>visa</td>\n",
       "      <td>166.0</td>\n",
       "      <td>...</td>\n",
       "      <td>NaN</td>\n",
       "      <td>NaN</td>\n",
       "      <td>NaN</td>\n",
       "      <td>NaN</td>\n",
       "      <td>NaN</td>\n",
       "      <td>NaN</td>\n",
       "      <td>NaN</td>\n",
       "      <td>NaN</td>\n",
       "      <td>NaN</td>\n",
       "      <td>NaN</td>\n",
       "    </tr>\n",
       "    <tr>\n",
       "      <th>3</th>\n",
       "      <td>2987003</td>\n",
       "      <td>0</td>\n",
       "      <td>86499</td>\n",
       "      <td>50.00</td>\n",
       "      <td>W</td>\n",
       "      <td>18132</td>\n",
       "      <td>567.0</td>\n",
       "      <td>150.0</td>\n",
       "      <td>mastercard</td>\n",
       "      <td>117.0</td>\n",
       "      <td>...</td>\n",
       "      <td>NaN</td>\n",
       "      <td>NaN</td>\n",
       "      <td>NaN</td>\n",
       "      <td>NaN</td>\n",
       "      <td>NaN</td>\n",
       "      <td>NaN</td>\n",
       "      <td>NaN</td>\n",
       "      <td>NaN</td>\n",
       "      <td>NaN</td>\n",
       "      <td>NaN</td>\n",
       "    </tr>\n",
       "    <tr>\n",
       "      <th>4</th>\n",
       "      <td>2987004</td>\n",
       "      <td>0</td>\n",
       "      <td>86506</td>\n",
       "      <td>50.00</td>\n",
       "      <td>H</td>\n",
       "      <td>4497</td>\n",
       "      <td>514.0</td>\n",
       "      <td>150.0</td>\n",
       "      <td>mastercard</td>\n",
       "      <td>102.0</td>\n",
       "      <td>...</td>\n",
       "      <td>0.0</td>\n",
       "      <td>0.0</td>\n",
       "      <td>0.0</td>\n",
       "      <td>0.0</td>\n",
       "      <td>0.0</td>\n",
       "      <td>0.0</td>\n",
       "      <td>0.0</td>\n",
       "      <td>0.0</td>\n",
       "      <td>0.0</td>\n",
       "      <td>0.0</td>\n",
       "    </tr>\n",
       "    <tr>\n",
       "      <th>...</th>\n",
       "      <td>...</td>\n",
       "      <td>...</td>\n",
       "      <td>...</td>\n",
       "      <td>...</td>\n",
       "      <td>...</td>\n",
       "      <td>...</td>\n",
       "      <td>...</td>\n",
       "      <td>...</td>\n",
       "      <td>...</td>\n",
       "      <td>...</td>\n",
       "      <td>...</td>\n",
       "      <td>...</td>\n",
       "      <td>...</td>\n",
       "      <td>...</td>\n",
       "      <td>...</td>\n",
       "      <td>...</td>\n",
       "      <td>...</td>\n",
       "      <td>...</td>\n",
       "      <td>...</td>\n",
       "      <td>...</td>\n",
       "      <td>...</td>\n",
       "    </tr>\n",
       "    <tr>\n",
       "      <th>179995</th>\n",
       "      <td>3166995</td>\n",
       "      <td>0</td>\n",
       "      <td>3958217</td>\n",
       "      <td>39.00</td>\n",
       "      <td>W</td>\n",
       "      <td>1877</td>\n",
       "      <td>310.0</td>\n",
       "      <td>150.0</td>\n",
       "      <td>mastercard</td>\n",
       "      <td>224.0</td>\n",
       "      <td>...</td>\n",
       "      <td>NaN</td>\n",
       "      <td>NaN</td>\n",
       "      <td>NaN</td>\n",
       "      <td>NaN</td>\n",
       "      <td>NaN</td>\n",
       "      <td>NaN</td>\n",
       "      <td>NaN</td>\n",
       "      <td>NaN</td>\n",
       "      <td>NaN</td>\n",
       "      <td>NaN</td>\n",
       "    </tr>\n",
       "    <tr>\n",
       "      <th>179996</th>\n",
       "      <td>3166996</td>\n",
       "      <td>0</td>\n",
       "      <td>3958237</td>\n",
       "      <td>59.95</td>\n",
       "      <td>W</td>\n",
       "      <td>10075</td>\n",
       "      <td>514.0</td>\n",
       "      <td>150.0</td>\n",
       "      <td>mastercard</td>\n",
       "      <td>224.0</td>\n",
       "      <td>...</td>\n",
       "      <td>NaN</td>\n",
       "      <td>NaN</td>\n",
       "      <td>NaN</td>\n",
       "      <td>NaN</td>\n",
       "      <td>NaN</td>\n",
       "      <td>NaN</td>\n",
       "      <td>NaN</td>\n",
       "      <td>NaN</td>\n",
       "      <td>NaN</td>\n",
       "      <td>NaN</td>\n",
       "    </tr>\n",
       "    <tr>\n",
       "      <th>179997</th>\n",
       "      <td>3166997</td>\n",
       "      <td>0</td>\n",
       "      <td>3958241</td>\n",
       "      <td>34.00</td>\n",
       "      <td>W</td>\n",
       "      <td>6053</td>\n",
       "      <td>122.0</td>\n",
       "      <td>150.0</td>\n",
       "      <td>mastercard</td>\n",
       "      <td>195.0</td>\n",
       "      <td>...</td>\n",
       "      <td>NaN</td>\n",
       "      <td>NaN</td>\n",
       "      <td>NaN</td>\n",
       "      <td>NaN</td>\n",
       "      <td>NaN</td>\n",
       "      <td>NaN</td>\n",
       "      <td>NaN</td>\n",
       "      <td>NaN</td>\n",
       "      <td>NaN</td>\n",
       "      <td>NaN</td>\n",
       "    </tr>\n",
       "    <tr>\n",
       "      <th>179998</th>\n",
       "      <td>3166998</td>\n",
       "      <td>0</td>\n",
       "      <td>3958260</td>\n",
       "      <td>59.00</td>\n",
       "      <td>W</td>\n",
       "      <td>7726</td>\n",
       "      <td>555.0</td>\n",
       "      <td>150.0</td>\n",
       "      <td>visa</td>\n",
       "      <td>226.0</td>\n",
       "      <td>...</td>\n",
       "      <td>NaN</td>\n",
       "      <td>NaN</td>\n",
       "      <td>NaN</td>\n",
       "      <td>NaN</td>\n",
       "      <td>NaN</td>\n",
       "      <td>NaN</td>\n",
       "      <td>NaN</td>\n",
       "      <td>NaN</td>\n",
       "      <td>NaN</td>\n",
       "      <td>NaN</td>\n",
       "    </tr>\n",
       "    <tr>\n",
       "      <th>179999</th>\n",
       "      <td>3166999</td>\n",
       "      <td>0</td>\n",
       "      <td>3958317</td>\n",
       "      <td>226.00</td>\n",
       "      <td>W</td>\n",
       "      <td>17480</td>\n",
       "      <td>528.0</td>\n",
       "      <td>150.0</td>\n",
       "      <td>visa</td>\n",
       "      <td>226.0</td>\n",
       "      <td>...</td>\n",
       "      <td>NaN</td>\n",
       "      <td>NaN</td>\n",
       "      <td>NaN</td>\n",
       "      <td>NaN</td>\n",
       "      <td>NaN</td>\n",
       "      <td>NaN</td>\n",
       "      <td>NaN</td>\n",
       "      <td>NaN</td>\n",
       "      <td>NaN</td>\n",
       "      <td>NaN</td>\n",
       "    </tr>\n",
       "  </tbody>\n",
       "</table>\n",
       "<p>180000 rows × 394 columns</p>\n",
       "</div>"
      ],
      "text/plain": [
       "        TransactionID  isFraud  TransactionDT  TransactionAmt ProductCD  \\\n",
       "0             2987000        0          86400           68.50         W   \n",
       "1             2987001        0          86401           29.00         W   \n",
       "2             2987002        0          86469           59.00         W   \n",
       "3             2987003        0          86499           50.00         W   \n",
       "4             2987004        0          86506           50.00         H   \n",
       "...               ...      ...            ...             ...       ...   \n",
       "179995        3166995        0        3958217           39.00         W   \n",
       "179996        3166996        0        3958237           59.95         W   \n",
       "179997        3166997        0        3958241           34.00         W   \n",
       "179998        3166998        0        3958260           59.00         W   \n",
       "179999        3166999        0        3958317          226.00         W   \n",
       "\n",
       "        card1  card2  card3       card4  card5  ... V330  V331  V332  V333  \\\n",
       "0       13926    NaN  150.0    discover  142.0  ...  NaN   NaN   NaN   NaN   \n",
       "1        2755  404.0  150.0  mastercard  102.0  ...  NaN   NaN   NaN   NaN   \n",
       "2        4663  490.0  150.0        visa  166.0  ...  NaN   NaN   NaN   NaN   \n",
       "3       18132  567.0  150.0  mastercard  117.0  ...  NaN   NaN   NaN   NaN   \n",
       "4        4497  514.0  150.0  mastercard  102.0  ...  0.0   0.0   0.0   0.0   \n",
       "...       ...    ...    ...         ...    ...  ...  ...   ...   ...   ...   \n",
       "179995   1877  310.0  150.0  mastercard  224.0  ...  NaN   NaN   NaN   NaN   \n",
       "179996  10075  514.0  150.0  mastercard  224.0  ...  NaN   NaN   NaN   NaN   \n",
       "179997   6053  122.0  150.0  mastercard  195.0  ...  NaN   NaN   NaN   NaN   \n",
       "179998   7726  555.0  150.0        visa  226.0  ...  NaN   NaN   NaN   NaN   \n",
       "179999  17480  528.0  150.0        visa  226.0  ...  NaN   NaN   NaN   NaN   \n",
       "\n",
       "        V334 V335 V336  V337  V338  V339  \n",
       "0        NaN  NaN  NaN   NaN   NaN   NaN  \n",
       "1        NaN  NaN  NaN   NaN   NaN   NaN  \n",
       "2        NaN  NaN  NaN   NaN   NaN   NaN  \n",
       "3        NaN  NaN  NaN   NaN   NaN   NaN  \n",
       "4        0.0  0.0  0.0   0.0   0.0   0.0  \n",
       "...      ...  ...  ...   ...   ...   ...  \n",
       "179995   NaN  NaN  NaN   NaN   NaN   NaN  \n",
       "179996   NaN  NaN  NaN   NaN   NaN   NaN  \n",
       "179997   NaN  NaN  NaN   NaN   NaN   NaN  \n",
       "179998   NaN  NaN  NaN   NaN   NaN   NaN  \n",
       "179999   NaN  NaN  NaN   NaN   NaN   NaN  \n",
       "\n",
       "[180000 rows x 394 columns]"
      ]
     },
     "execution_count": 597,
     "metadata": {},
     "output_type": "execute_result"
    }
   ],
   "source": [
    "train = pd.read_csv('assignment_2_train.csv')\n",
    "train"
   ]
  },
  {
   "cell_type": "code",
   "execution_count": 476,
   "metadata": {},
   "outputs": [],
   "source": [
    "X=train.drop('isFraud', axis=1)\n",
    "y=train['isFraud']"
   ]
  },
  {
   "cell_type": "code",
   "execution_count": 477,
   "metadata": {},
   "outputs": [
    {
     "data": {
      "text/plain": [
       "0    174859\n",
       "1      5141\n",
       "Name: isFraud, dtype: int64"
      ]
     },
     "execution_count": 477,
     "metadata": {},
     "output_type": "execute_result"
    }
   ],
   "source": [
    "y.value_counts()"
   ]
  },
  {
   "cell_type": "markdown",
   "metadata": {},
   "source": [
    "Задание 1: отобрать только числовые признаки и обучить модель XGBoost с параметром booster = gbtree. Обучать алгоритм до тех пор, пока метрика качества не перестанет улучшаться на валидационной выборке в течение определенного числа итераций (выбрать значение самостоятельно)."
   ]
  },
  {
   "cell_type": "code",
   "execution_count": 478,
   "metadata": {},
   "outputs": [],
   "source": [
    "train_num=X.select_dtypes(exclude='object')\n",
    "X_train, X_test, y_train, y_test = train_test_split(train_num, y, test_size=0.33, random_state=101)"
   ]
  },
  {
   "cell_type": "code",
   "execution_count": 479,
   "metadata": {},
   "outputs": [],
   "source": [
    "m_xgb=xgb.XGBClassifier(booster = 'gbtree')"
   ]
  },
  {
   "cell_type": "code",
   "execution_count": 596,
   "metadata": {},
   "outputs": [
    {
     "data": {
      "text/html": [
       "<div>\n",
       "<style scoped>\n",
       "    .dataframe tbody tr th:only-of-type {\n",
       "        vertical-align: middle;\n",
       "    }\n",
       "\n",
       "    .dataframe tbody tr th {\n",
       "        vertical-align: top;\n",
       "    }\n",
       "\n",
       "    .dataframe thead th {\n",
       "        text-align: right;\n",
       "    }\n",
       "</style>\n",
       "<table border=\"1\" class=\"dataframe\">\n",
       "  <thead>\n",
       "    <tr style=\"text-align: right;\">\n",
       "      <th></th>\n",
       "      <th>TransactionID</th>\n",
       "      <th>TransactionDT</th>\n",
       "      <th>TransactionAmt</th>\n",
       "      <th>card1</th>\n",
       "      <th>card2</th>\n",
       "      <th>card3</th>\n",
       "      <th>card5</th>\n",
       "      <th>addr1</th>\n",
       "      <th>addr2</th>\n",
       "      <th>dist1</th>\n",
       "      <th>...</th>\n",
       "      <th>V330</th>\n",
       "      <th>V331</th>\n",
       "      <th>V332</th>\n",
       "      <th>V333</th>\n",
       "      <th>V334</th>\n",
       "      <th>V335</th>\n",
       "      <th>V336</th>\n",
       "      <th>V337</th>\n",
       "      <th>V338</th>\n",
       "      <th>V339</th>\n",
       "    </tr>\n",
       "  </thead>\n",
       "  <tbody>\n",
       "    <tr>\n",
       "      <th>0</th>\n",
       "      <td>2987000</td>\n",
       "      <td>86400</td>\n",
       "      <td>68.50</td>\n",
       "      <td>13926</td>\n",
       "      <td>NaN</td>\n",
       "      <td>150.0</td>\n",
       "      <td>142.0</td>\n",
       "      <td>315.0</td>\n",
       "      <td>87.0</td>\n",
       "      <td>19.0</td>\n",
       "      <td>...</td>\n",
       "      <td>NaN</td>\n",
       "      <td>NaN</td>\n",
       "      <td>NaN</td>\n",
       "      <td>NaN</td>\n",
       "      <td>NaN</td>\n",
       "      <td>NaN</td>\n",
       "      <td>NaN</td>\n",
       "      <td>NaN</td>\n",
       "      <td>NaN</td>\n",
       "      <td>NaN</td>\n",
       "    </tr>\n",
       "    <tr>\n",
       "      <th>1</th>\n",
       "      <td>2987001</td>\n",
       "      <td>86401</td>\n",
       "      <td>29.00</td>\n",
       "      <td>2755</td>\n",
       "      <td>404.0</td>\n",
       "      <td>150.0</td>\n",
       "      <td>102.0</td>\n",
       "      <td>325.0</td>\n",
       "      <td>87.0</td>\n",
       "      <td>NaN</td>\n",
       "      <td>...</td>\n",
       "      <td>NaN</td>\n",
       "      <td>NaN</td>\n",
       "      <td>NaN</td>\n",
       "      <td>NaN</td>\n",
       "      <td>NaN</td>\n",
       "      <td>NaN</td>\n",
       "      <td>NaN</td>\n",
       "      <td>NaN</td>\n",
       "      <td>NaN</td>\n",
       "      <td>NaN</td>\n",
       "    </tr>\n",
       "    <tr>\n",
       "      <th>2</th>\n",
       "      <td>2987002</td>\n",
       "      <td>86469</td>\n",
       "      <td>59.00</td>\n",
       "      <td>4663</td>\n",
       "      <td>490.0</td>\n",
       "      <td>150.0</td>\n",
       "      <td>166.0</td>\n",
       "      <td>330.0</td>\n",
       "      <td>87.0</td>\n",
       "      <td>287.0</td>\n",
       "      <td>...</td>\n",
       "      <td>NaN</td>\n",
       "      <td>NaN</td>\n",
       "      <td>NaN</td>\n",
       "      <td>NaN</td>\n",
       "      <td>NaN</td>\n",
       "      <td>NaN</td>\n",
       "      <td>NaN</td>\n",
       "      <td>NaN</td>\n",
       "      <td>NaN</td>\n",
       "      <td>NaN</td>\n",
       "    </tr>\n",
       "    <tr>\n",
       "      <th>3</th>\n",
       "      <td>2987003</td>\n",
       "      <td>86499</td>\n",
       "      <td>50.00</td>\n",
       "      <td>18132</td>\n",
       "      <td>567.0</td>\n",
       "      <td>150.0</td>\n",
       "      <td>117.0</td>\n",
       "      <td>476.0</td>\n",
       "      <td>87.0</td>\n",
       "      <td>NaN</td>\n",
       "      <td>...</td>\n",
       "      <td>NaN</td>\n",
       "      <td>NaN</td>\n",
       "      <td>NaN</td>\n",
       "      <td>NaN</td>\n",
       "      <td>NaN</td>\n",
       "      <td>NaN</td>\n",
       "      <td>NaN</td>\n",
       "      <td>NaN</td>\n",
       "      <td>NaN</td>\n",
       "      <td>NaN</td>\n",
       "    </tr>\n",
       "    <tr>\n",
       "      <th>4</th>\n",
       "      <td>2987004</td>\n",
       "      <td>86506</td>\n",
       "      <td>50.00</td>\n",
       "      <td>4497</td>\n",
       "      <td>514.0</td>\n",
       "      <td>150.0</td>\n",
       "      <td>102.0</td>\n",
       "      <td>420.0</td>\n",
       "      <td>87.0</td>\n",
       "      <td>NaN</td>\n",
       "      <td>...</td>\n",
       "      <td>0.0</td>\n",
       "      <td>0.0</td>\n",
       "      <td>0.0</td>\n",
       "      <td>0.0</td>\n",
       "      <td>0.0</td>\n",
       "      <td>0.0</td>\n",
       "      <td>0.0</td>\n",
       "      <td>0.0</td>\n",
       "      <td>0.0</td>\n",
       "      <td>0.0</td>\n",
       "    </tr>\n",
       "    <tr>\n",
       "      <th>...</th>\n",
       "      <td>...</td>\n",
       "      <td>...</td>\n",
       "      <td>...</td>\n",
       "      <td>...</td>\n",
       "      <td>...</td>\n",
       "      <td>...</td>\n",
       "      <td>...</td>\n",
       "      <td>...</td>\n",
       "      <td>...</td>\n",
       "      <td>...</td>\n",
       "      <td>...</td>\n",
       "      <td>...</td>\n",
       "      <td>...</td>\n",
       "      <td>...</td>\n",
       "      <td>...</td>\n",
       "      <td>...</td>\n",
       "      <td>...</td>\n",
       "      <td>...</td>\n",
       "      <td>...</td>\n",
       "      <td>...</td>\n",
       "      <td>...</td>\n",
       "    </tr>\n",
       "    <tr>\n",
       "      <th>179995</th>\n",
       "      <td>3166995</td>\n",
       "      <td>3958217</td>\n",
       "      <td>39.00</td>\n",
       "      <td>1877</td>\n",
       "      <td>310.0</td>\n",
       "      <td>150.0</td>\n",
       "      <td>224.0</td>\n",
       "      <td>272.0</td>\n",
       "      <td>87.0</td>\n",
       "      <td>12.0</td>\n",
       "      <td>...</td>\n",
       "      <td>NaN</td>\n",
       "      <td>NaN</td>\n",
       "      <td>NaN</td>\n",
       "      <td>NaN</td>\n",
       "      <td>NaN</td>\n",
       "      <td>NaN</td>\n",
       "      <td>NaN</td>\n",
       "      <td>NaN</td>\n",
       "      <td>NaN</td>\n",
       "      <td>NaN</td>\n",
       "    </tr>\n",
       "    <tr>\n",
       "      <th>179996</th>\n",
       "      <td>3166996</td>\n",
       "      <td>3958237</td>\n",
       "      <td>59.95</td>\n",
       "      <td>10075</td>\n",
       "      <td>514.0</td>\n",
       "      <td>150.0</td>\n",
       "      <td>224.0</td>\n",
       "      <td>315.0</td>\n",
       "      <td>87.0</td>\n",
       "      <td>NaN</td>\n",
       "      <td>...</td>\n",
       "      <td>NaN</td>\n",
       "      <td>NaN</td>\n",
       "      <td>NaN</td>\n",
       "      <td>NaN</td>\n",
       "      <td>NaN</td>\n",
       "      <td>NaN</td>\n",
       "      <td>NaN</td>\n",
       "      <td>NaN</td>\n",
       "      <td>NaN</td>\n",
       "      <td>NaN</td>\n",
       "    </tr>\n",
       "    <tr>\n",
       "      <th>179997</th>\n",
       "      <td>3166997</td>\n",
       "      <td>3958241</td>\n",
       "      <td>34.00</td>\n",
       "      <td>6053</td>\n",
       "      <td>122.0</td>\n",
       "      <td>150.0</td>\n",
       "      <td>195.0</td>\n",
       "      <td>330.0</td>\n",
       "      <td>87.0</td>\n",
       "      <td>NaN</td>\n",
       "      <td>...</td>\n",
       "      <td>NaN</td>\n",
       "      <td>NaN</td>\n",
       "      <td>NaN</td>\n",
       "      <td>NaN</td>\n",
       "      <td>NaN</td>\n",
       "      <td>NaN</td>\n",
       "      <td>NaN</td>\n",
       "      <td>NaN</td>\n",
       "      <td>NaN</td>\n",
       "      <td>NaN</td>\n",
       "    </tr>\n",
       "    <tr>\n",
       "      <th>179998</th>\n",
       "      <td>3166998</td>\n",
       "      <td>3958260</td>\n",
       "      <td>59.00</td>\n",
       "      <td>7726</td>\n",
       "      <td>555.0</td>\n",
       "      <td>150.0</td>\n",
       "      <td>226.0</td>\n",
       "      <td>272.0</td>\n",
       "      <td>87.0</td>\n",
       "      <td>NaN</td>\n",
       "      <td>...</td>\n",
       "      <td>NaN</td>\n",
       "      <td>NaN</td>\n",
       "      <td>NaN</td>\n",
       "      <td>NaN</td>\n",
       "      <td>NaN</td>\n",
       "      <td>NaN</td>\n",
       "      <td>NaN</td>\n",
       "      <td>NaN</td>\n",
       "      <td>NaN</td>\n",
       "      <td>NaN</td>\n",
       "    </tr>\n",
       "    <tr>\n",
       "      <th>179999</th>\n",
       "      <td>3166999</td>\n",
       "      <td>3958317</td>\n",
       "      <td>226.00</td>\n",
       "      <td>17480</td>\n",
       "      <td>528.0</td>\n",
       "      <td>150.0</td>\n",
       "      <td>226.0</td>\n",
       "      <td>123.0</td>\n",
       "      <td>87.0</td>\n",
       "      <td>5.0</td>\n",
       "      <td>...</td>\n",
       "      <td>NaN</td>\n",
       "      <td>NaN</td>\n",
       "      <td>NaN</td>\n",
       "      <td>NaN</td>\n",
       "      <td>NaN</td>\n",
       "      <td>NaN</td>\n",
       "      <td>NaN</td>\n",
       "      <td>NaN</td>\n",
       "      <td>NaN</td>\n",
       "      <td>NaN</td>\n",
       "    </tr>\n",
       "  </tbody>\n",
       "</table>\n",
       "<p>180000 rows × 379 columns</p>\n",
       "</div>"
      ],
      "text/plain": [
       "        TransactionID  TransactionDT  TransactionAmt  card1  card2  card3  \\\n",
       "0             2987000          86400           68.50  13926    NaN  150.0   \n",
       "1             2987001          86401           29.00   2755  404.0  150.0   \n",
       "2             2987002          86469           59.00   4663  490.0  150.0   \n",
       "3             2987003          86499           50.00  18132  567.0  150.0   \n",
       "4             2987004          86506           50.00   4497  514.0  150.0   \n",
       "...               ...            ...             ...    ...    ...    ...   \n",
       "179995        3166995        3958217           39.00   1877  310.0  150.0   \n",
       "179996        3166996        3958237           59.95  10075  514.0  150.0   \n",
       "179997        3166997        3958241           34.00   6053  122.0  150.0   \n",
       "179998        3166998        3958260           59.00   7726  555.0  150.0   \n",
       "179999        3166999        3958317          226.00  17480  528.0  150.0   \n",
       "\n",
       "        card5  addr1  addr2  dist1  ...  V330  V331  V332  V333  V334  V335  \\\n",
       "0       142.0  315.0   87.0   19.0  ...   NaN   NaN   NaN   NaN   NaN   NaN   \n",
       "1       102.0  325.0   87.0    NaN  ...   NaN   NaN   NaN   NaN   NaN   NaN   \n",
       "2       166.0  330.0   87.0  287.0  ...   NaN   NaN   NaN   NaN   NaN   NaN   \n",
       "3       117.0  476.0   87.0    NaN  ...   NaN   NaN   NaN   NaN   NaN   NaN   \n",
       "4       102.0  420.0   87.0    NaN  ...   0.0   0.0   0.0   0.0   0.0   0.0   \n",
       "...       ...    ...    ...    ...  ...   ...   ...   ...   ...   ...   ...   \n",
       "179995  224.0  272.0   87.0   12.0  ...   NaN   NaN   NaN   NaN   NaN   NaN   \n",
       "179996  224.0  315.0   87.0    NaN  ...   NaN   NaN   NaN   NaN   NaN   NaN   \n",
       "179997  195.0  330.0   87.0    NaN  ...   NaN   NaN   NaN   NaN   NaN   NaN   \n",
       "179998  226.0  272.0   87.0    NaN  ...   NaN   NaN   NaN   NaN   NaN   NaN   \n",
       "179999  226.0  123.0   87.0    5.0  ...   NaN   NaN   NaN   NaN   NaN   NaN   \n",
       "\n",
       "        V336  V337  V338  V339  \n",
       "0        NaN   NaN   NaN   NaN  \n",
       "1        NaN   NaN   NaN   NaN  \n",
       "2        NaN   NaN   NaN   NaN  \n",
       "3        NaN   NaN   NaN   NaN  \n",
       "4        0.0   0.0   0.0   0.0  \n",
       "...      ...   ...   ...   ...  \n",
       "179995   NaN   NaN   NaN   NaN  \n",
       "179996   NaN   NaN   NaN   NaN  \n",
       "179997   NaN   NaN   NaN   NaN  \n",
       "179998   NaN   NaN   NaN   NaN  \n",
       "179999   NaN   NaN   NaN   NaN  \n",
       "\n",
       "[180000 rows x 379 columns]"
      ]
     },
     "execution_count": 596,
     "metadata": {},
     "output_type": "execute_result"
    }
   ],
   "source": [
    "train_num"
   ]
  },
  {
   "cell_type": "code",
   "execution_count": 480,
   "metadata": {},
   "outputs": [
    {
     "name": "stdout",
     "output_type": "stream",
     "text": [
      "[0]\tvalidation_0-auc:0.75919\tvalidation_1-auc:0.76253\n",
      "[20]\tvalidation_0-auc:0.93534\tvalidation_1-auc:0.90813\n",
      "[40]\tvalidation_0-auc:0.95741\tvalidation_1-auc:0.92259\n",
      "[60]\tvalidation_0-auc:0.96780\tvalidation_1-auc:0.92771\n",
      "[80]\tvalidation_0-auc:0.97481\tvalidation_1-auc:0.93209\n",
      "[99]\tvalidation_0-auc:0.98079\tvalidation_1-auc:0.93642\n"
     ]
    }
   ],
   "source": [
    "m_xgb_num=m_xgb.fit(\n",
    "    X_train, y_train,\n",
    "    eval_set=[(X_train, y_train), (X_test, y_test)],\n",
    "    eval_metric='auc',\n",
    "    early_stopping_rounds=10,\n",
    "    verbose=20)"
   ]
  },
  {
   "cell_type": "markdown",
   "metadata": {},
   "source": [
    "Задание 2: обработать категориальные признаки любым способом (который вы знаете) и добавить их к данным. Выполнить задание 1."
   ]
  },
  {
   "cell_type": "code",
   "execution_count": 481,
   "metadata": {},
   "outputs": [],
   "source": [
    "m_xgb=xgb.XGBClassifier(booster = 'gbtree',seed=101)"
   ]
  },
  {
   "cell_type": "code",
   "execution_count": 551,
   "metadata": {},
   "outputs": [],
   "source": [
    "train_cat=pd.get_dummies(X)\n",
    "X_train, X_test, y_train, y_test = train_test_split(train_cat, y, test_size=0.33, random_state=101)"
   ]
  },
  {
   "cell_type": "code",
   "execution_count": 483,
   "metadata": {},
   "outputs": [
    {
     "name": "stdout",
     "output_type": "stream",
     "text": [
      "[0]\tvalidation_0-auc:0.75928\tvalidation_1-auc:0.76267\n",
      "[20]\tvalidation_0-auc:0.94345\tvalidation_1-auc:0.91518\n",
      "[40]\tvalidation_0-auc:0.96498\tvalidation_1-auc:0.93091\n",
      "[60]\tvalidation_0-auc:0.97547\tvalidation_1-auc:0.93659\n",
      "[80]\tvalidation_0-auc:0.98171\tvalidation_1-auc:0.94088\n",
      "[99]\tvalidation_0-auc:0.98644\tvalidation_1-auc:0.94271\n"
     ]
    }
   ],
   "source": [
    "m_xgb_cat=m_xgb.fit(\n",
    "    X_train, y_train,\n",
    "    eval_set=[(X_train, y_train), (X_test, y_test)],\n",
    "    eval_metric='auc',\n",
    "    early_stopping_rounds=10,\n",
    "    verbose=20)"
   ]
  },
  {
   "cell_type": "code",
   "execution_count": null,
   "metadata": {},
   "outputs": [],
   "source": []
  },
  {
   "cell_type": "markdown",
   "metadata": {},
   "source": [
    "Задание 3. Пропущено. Это критичный момент. Нельзя пропускать задания или менять их нумерацию."
   ]
  },
  {
   "cell_type": "code",
   "execution_count": null,
   "metadata": {},
   "outputs": [],
   "source": []
  },
  {
   "cell_type": "markdown",
   "metadata": {},
   "source": [
    "Задание 4: для числовых признаков обучить модель LightGBM. Обучать алгоритм до тех пор, пока метрика качества не перестанет улучшаться на валидационной выборке в течение определенного числа итераций (выбрать значение самостоятельно)."
   ]
  },
  {
   "cell_type": "code",
   "execution_count": 527,
   "metadata": {},
   "outputs": [],
   "source": [
    "m_lgb= lgb.LGBMClassifier()\n",
    "m_lgb1= lgb.LGBMClassifier()\n",
    "m_lgb2= lgb.LGBMClassifier()"
   ]
  },
  {
   "cell_type": "code",
   "execution_count": 552,
   "metadata": {},
   "outputs": [],
   "source": [
    "X_train, X_test, y_train, y_test = train_test_split(train_num, y, test_size=0.33, random_state=101)"
   ]
  },
  {
   "cell_type": "code",
   "execution_count": 529,
   "metadata": {},
   "outputs": [
    {
     "name": "stdout",
     "output_type": "stream",
     "text": [
      "Training until validation scores don't improve for 10 rounds\n",
      "[20]\ttraining's auc: 0.909676\ttraining's binary_logloss: 0.0726256\tvalid_1's auc: 0.895872\tvalid_1's binary_logloss: 0.0738265\n",
      "[40]\ttraining's auc: 0.934099\ttraining's binary_logloss: 0.0622207\tvalid_1's auc: 0.911039\tvalid_1's binary_logloss: 0.0673315\n",
      "[60]\ttraining's auc: 0.951629\ttraining's binary_logloss: 0.0557064\tvalid_1's auc: 0.918689\tvalid_1's binary_logloss: 0.0641282\n",
      "[80]\ttraining's auc: 0.96362\ttraining's binary_logloss: 0.0507688\tvalid_1's auc: 0.924673\tvalid_1's binary_logloss: 0.0620816\n",
      "[100]\ttraining's auc: 0.970607\ttraining's binary_logloss: 0.0471382\tvalid_1's auc: 0.92961\tvalid_1's binary_logloss: 0.0603943\n",
      "Did not meet early stopping. Best iteration is:\n",
      "[100]\ttraining's auc: 0.970607\ttraining's binary_logloss: 0.0471382\tvalid_1's auc: 0.92961\tvalid_1's binary_logloss: 0.0603943\n"
     ]
    }
   ],
   "source": [
    "m_lgb_num=m_lgb.fit(\n",
    "    X_train, y_train,\n",
    "    eval_set=[(X_train, y_train), (X_test, y_test)],\n",
    "    eval_metric='auc',\n",
    "    early_stopping_rounds=10,\n",
    "    verbose=20)"
   ]
  },
  {
   "cell_type": "markdown",
   "metadata": {},
   "source": [
    "Задание 5: обработать категориальные признаки любым способом (который вы знаете) и добавить их к данным. Выполнить задание 4."
   ]
  },
  {
   "cell_type": "code",
   "execution_count": 533,
   "metadata": {},
   "outputs": [],
   "source": [
    "m_lgb= lgb.LGBMClassifier()"
   ]
  },
  {
   "cell_type": "code",
   "execution_count": 554,
   "metadata": {},
   "outputs": [],
   "source": [
    "X_train, X_test, y_train, y_test = train_test_split(train_cat, y, test_size=0.33, random_state=101)\n"
   ]
  },
  {
   "cell_type": "code",
   "execution_count": 535,
   "metadata": {},
   "outputs": [
    {
     "name": "stdout",
     "output_type": "stream",
     "text": [
      "Training until validation scores don't improve for 10 rounds\n",
      "[20]\ttraining's auc: 0.914132\ttraining's binary_logloss: 0.0708575\tvalid_1's auc: 0.900994\tvalid_1's binary_logloss: 0.0722921\n",
      "[40]\ttraining's auc: 0.941419\ttraining's binary_logloss: 0.0594721\tvalid_1's auc: 0.919717\tvalid_1's binary_logloss: 0.0646614\n",
      "[60]\ttraining's auc: 0.959584\ttraining's binary_logloss: 0.0524814\tvalid_1's auc: 0.929494\tvalid_1's binary_logloss: 0.0609734\n",
      "[80]\ttraining's auc: 0.969699\ttraining's binary_logloss: 0.0475909\tvalid_1's auc: 0.933767\tvalid_1's binary_logloss: 0.0588977\n",
      "[100]\ttraining's auc: 0.977744\ttraining's binary_logloss: 0.0436677\tvalid_1's auc: 0.937322\tvalid_1's binary_logloss: 0.0573163\n",
      "Did not meet early stopping. Best iteration is:\n",
      "[100]\ttraining's auc: 0.977744\ttraining's binary_logloss: 0.0436677\tvalid_1's auc: 0.937322\tvalid_1's binary_logloss: 0.0573163\n"
     ]
    }
   ],
   "source": [
    "m_lgb_cat=m_lgb.fit(\n",
    "    X_train, y_train,\n",
    "    eval_set=[(X_train, y_train), (X_test, y_test)],\n",
    "    eval_metric='auc',\n",
    "    early_stopping_rounds=10,\n",
    "    verbose=20)"
   ]
  },
  {
   "cell_type": "markdown",
   "metadata": {},
   "source": [
    "Задание 6: обработать категориальные признаки встроенным методом в LightGBM. Выполнить задание 4. Сделать выводы о качестве работы алгоритма, по сравнению с пунктом 5."
   ]
  },
  {
   "cell_type": "code",
   "execution_count": 538,
   "metadata": {},
   "outputs": [],
   "source": [
    "m_lgb= lgb.LGBMClassifier()"
   ]
  },
  {
   "cell_type": "code",
   "execution_count": 556,
   "metadata": {},
   "outputs": [],
   "source": [
    "cat=X.select_dtypes(include='object').columns.to_list()\n",
    "X_lgbm_cat=X.copy()\n",
    "X_lgbm_cat[cat]=X_lgbm_cat.select_dtypes(include='object').astype('category')\n",
    "X_train, X_test, y_train, y_test = train_test_split(X_lgbm_cat, y, test_size=0.33, random_state=101)\n"
   ]
  },
  {
   "cell_type": "code",
   "execution_count": 540,
   "metadata": {},
   "outputs": [
    {
     "name": "stdout",
     "output_type": "stream",
     "text": [
      "Training until validation scores don't improve for 10 rounds\n",
      "[20]\ttraining's auc: 0.919775\ttraining's binary_logloss: 0.0697846\tvalid_1's auc: 0.903623\tvalid_1's binary_logloss: 0.0719487\n",
      "[40]\ttraining's auc: 0.945896\ttraining's binary_logloss: 0.0585455\tvalid_1's auc: 0.921636\tvalid_1's binary_logloss: 0.0645927\n",
      "[60]\ttraining's auc: 0.962285\ttraining's binary_logloss: 0.0516245\tvalid_1's auc: 0.929375\tvalid_1's binary_logloss: 0.0611702\n",
      "[80]\ttraining's auc: 0.970545\ttraining's binary_logloss: 0.0470761\tvalid_1's auc: 0.933771\tvalid_1's binary_logloss: 0.0592016\n",
      "[100]\ttraining's auc: 0.977395\ttraining's binary_logloss: 0.0431461\tvalid_1's auc: 0.93862\tvalid_1's binary_logloss: 0.0572762\n",
      "Did not meet early stopping. Best iteration is:\n",
      "[100]\ttraining's auc: 0.977395\ttraining's binary_logloss: 0.0431461\tvalid_1's auc: 0.93862\tvalid_1's binary_logloss: 0.0572762\n"
     ]
    }
   ],
   "source": [
    "m_lgb_cat_in=m_lgb.fit(\n",
    "    X_train, y_train,\n",
    "    eval_set=[(X_train, y_train), (X_test, y_test)],\n",
    "    eval_metric='auc',\n",
    "    early_stopping_rounds=10,\n",
    "    verbose=20)"
   ]
  },
  {
   "cell_type": "code",
   "execution_count": 557,
   "metadata": {},
   "outputs": [
    {
     "data": {
      "text/plain": [
       "array([0.00129015, 0.00976403, 0.01530927, ..., 0.00223456, 0.00759708,\n",
       "       0.00357732])"
      ]
     },
     "execution_count": 557,
     "metadata": {},
     "output_type": "execute_result"
    }
   ],
   "source": [
    "m_lgb_cat_in.predict_proba(X_train)[:,1]"
   ]
  },
  {
   "cell_type": "code",
   "execution_count": 541,
   "metadata": {},
   "outputs": [],
   "source": [
    "# Качество получше"
   ]
  },
  {
   "cell_type": "markdown",
   "metadata": {},
   "source": [
    "Задание 7: для числовых признаков обучить модель CatBoost. Обучать алгоритм до тех пор, пока метрика качества не перестанет улучшаться на валидационной выборке в течение определенного числа итераций (выбрать значение самостоятельно)."
   ]
  },
  {
   "cell_type": "code",
   "execution_count": 542,
   "metadata": {},
   "outputs": [],
   "source": [
    "X_train, X_test, y_train, y_test = train_test_split(train_num, y, test_size=0.33, random_state=101)"
   ]
  },
  {
   "cell_type": "code",
   "execution_count": 543,
   "metadata": {},
   "outputs": [],
   "source": [
    "m_cb = cb.CatBoostClassifier(eval_metric='AUC')"
   ]
  },
  {
   "cell_type": "code",
   "execution_count": 544,
   "metadata": {},
   "outputs": [
    {
     "name": "stdout",
     "output_type": "stream",
     "text": [
      "Learning rate set to 0.103515\n",
      "0:\ttest: 0.6991201\ttest1: 0.6912177\tbest: 0.6912177 (0)\ttotal: 192ms\tremaining: 3m 11s\n",
      "20:\ttest: 0.8562415\ttest1: 0.8607787\tbest: 0.8607787 (20)\ttotal: 2.02s\tremaining: 1m 34s\n",
      "40:\ttest: 0.8745259\ttest1: 0.8761421\tbest: 0.8761421 (40)\ttotal: 4.1s\tremaining: 1m 35s\n",
      "60:\ttest: 0.8865265\ttest1: 0.8857004\tbest: 0.8857004 (60)\ttotal: 6.42s\tremaining: 1m 38s\n",
      "80:\ttest: 0.8942285\ttest1: 0.8902294\tbest: 0.8902294 (80)\ttotal: 8.53s\tremaining: 1m 36s\n",
      "100:\ttest: 0.8987474\ttest1: 0.8928907\tbest: 0.8928907 (100)\ttotal: 10.7s\tremaining: 1m 35s\n",
      "120:\ttest: 0.9031834\ttest1: 0.8961187\tbest: 0.8961187 (120)\ttotal: 12.8s\tremaining: 1m 32s\n",
      "140:\ttest: 0.9076253\ttest1: 0.8989235\tbest: 0.8989235 (140)\ttotal: 14.9s\tremaining: 1m 30s\n",
      "160:\ttest: 0.9110641\ttest1: 0.9010778\tbest: 0.9010778 (160)\ttotal: 17s\tremaining: 1m 28s\n",
      "180:\ttest: 0.9145124\ttest1: 0.9035510\tbest: 0.9035510 (180)\ttotal: 19.1s\tremaining: 1m 26s\n",
      "200:\ttest: 0.9179472\ttest1: 0.9052781\tbest: 0.9052788 (199)\ttotal: 20.9s\tremaining: 1m 23s\n",
      "220:\ttest: 0.9209987\ttest1: 0.9074801\tbest: 0.9074801 (220)\ttotal: 23.2s\tremaining: 1m 21s\n",
      "240:\ttest: 0.9233764\ttest1: 0.9082767\tbest: 0.9082941 (239)\ttotal: 25.1s\tremaining: 1m 19s\n",
      "260:\ttest: 0.9258930\ttest1: 0.9097794\tbest: 0.9098024 (258)\ttotal: 27s\tremaining: 1m 16s\n",
      "280:\ttest: 0.9282632\ttest1: 0.9110915\tbest: 0.9110915 (280)\ttotal: 29.2s\tremaining: 1m 14s\n",
      "300:\ttest: 0.9303121\ttest1: 0.9123973\tbest: 0.9123973 (300)\ttotal: 31.1s\tremaining: 1m 12s\n",
      "320:\ttest: 0.9321263\ttest1: 0.9133719\tbest: 0.9133719 (320)\ttotal: 33s\tremaining: 1m 9s\n",
      "340:\ttest: 0.9338130\ttest1: 0.9143243\tbest: 0.9143243 (340)\ttotal: 35.2s\tremaining: 1m 7s\n",
      "360:\ttest: 0.9357638\ttest1: 0.9160233\tbest: 0.9160362 (359)\ttotal: 37.3s\tremaining: 1m 5s\n",
      "380:\ttest: 0.9372301\ttest1: 0.9168828\tbest: 0.9168828 (380)\ttotal: 39.2s\tremaining: 1m 3s\n",
      "400:\ttest: 0.9394607\ttest1: 0.9185440\tbest: 0.9185440 (400)\ttotal: 41.5s\tremaining: 1m 1s\n",
      "420:\ttest: 0.9411210\ttest1: 0.9195853\tbest: 0.9195853 (420)\ttotal: 43.4s\tremaining: 59.8s\n",
      "440:\ttest: 0.9429028\ttest1: 0.9204809\tbest: 0.9204809 (440)\ttotal: 45.5s\tremaining: 57.7s\n",
      "460:\ttest: 0.9443963\ttest1: 0.9213380\tbest: 0.9213380 (460)\ttotal: 47.7s\tremaining: 55.7s\n",
      "480:\ttest: 0.9457539\ttest1: 0.9222204\tbest: 0.9222204 (480)\ttotal: 49.7s\tremaining: 53.6s\n",
      "500:\ttest: 0.9473231\ttest1: 0.9223003\tbest: 0.9224690 (495)\ttotal: 51.8s\tremaining: 51.6s\n",
      "Stopped by overfitting detector  (10 iterations wait)\n",
      "\n",
      "bestTest = 0.9224690344\n",
      "bestIteration = 495\n",
      "\n",
      "Shrink model to first 496 iterations.\n"
     ]
    }
   ],
   "source": [
    "m_cb_num=m_cb.fit(\n",
    "    X_train, y_train,\n",
    "    eval_set=[(X_train, y_train), (X_test, y_test)],\n",
    "    early_stopping_rounds=10,\n",
    "    verbose_eval=20)"
   ]
  },
  {
   "cell_type": "code",
   "execution_count": null,
   "metadata": {},
   "outputs": [],
   "source": []
  },
  {
   "cell_type": "markdown",
   "metadata": {},
   "source": [
    "Задание 8: обработать категориальные признаки любым способом (который вы знаете) и добавить их к данным. Выполнить задание 7."
   ]
  },
  {
   "cell_type": "code",
   "execution_count": 563,
   "metadata": {},
   "outputs": [],
   "source": [
    "m_cb = cb.CatBoostClassifier(eval_metric='AUC')"
   ]
  },
  {
   "cell_type": "code",
   "execution_count": 564,
   "metadata": {},
   "outputs": [],
   "source": [
    "X_train, X_test, y_train, y_test = train_test_split(train_cat, y, test_size=0.33, random_state=101)"
   ]
  },
  {
   "cell_type": "code",
   "execution_count": 565,
   "metadata": {},
   "outputs": [
    {
     "name": "stdout",
     "output_type": "stream",
     "text": [
      "Learning rate set to 0.103515\n",
      "0:\ttest: 0.5851803\ttest1: 0.5890707\tbest: 0.5890707 (0)\ttotal: 99.4ms\tremaining: 1m 39s\n",
      "20:\ttest: 0.8636729\ttest1: 0.8673050\tbest: 0.8673050 (20)\ttotal: 2.12s\tremaining: 1m 38s\n",
      "40:\ttest: 0.8854187\ttest1: 0.8858046\tbest: 0.8858046 (40)\ttotal: 4.45s\tremaining: 1m 44s\n",
      "60:\ttest: 0.8966442\ttest1: 0.8942766\tbest: 0.8942766 (60)\ttotal: 6.57s\tremaining: 1m 41s\n",
      "80:\ttest: 0.9036304\ttest1: 0.8982907\tbest: 0.8983704 (79)\ttotal: 8.89s\tremaining: 1m 40s\n",
      "100:\ttest: 0.9078197\ttest1: 0.9010666\tbest: 0.9010666 (100)\ttotal: 10.7s\tremaining: 1m 35s\n",
      "120:\ttest: 0.9119956\ttest1: 0.9042368\tbest: 0.9042368 (120)\ttotal: 12.5s\tremaining: 1m 31s\n",
      "140:\ttest: 0.9172320\ttest1: 0.9076573\tbest: 0.9076573 (140)\ttotal: 14.7s\tremaining: 1m 29s\n",
      "160:\ttest: 0.9202414\ttest1: 0.9093199\tbest: 0.9093199 (160)\ttotal: 16.8s\tremaining: 1m 27s\n",
      "180:\ttest: 0.9238704\ttest1: 0.9120719\tbest: 0.9120834 (179)\ttotal: 18.6s\tremaining: 1m 24s\n",
      "200:\ttest: 0.9267953\ttest1: 0.9139625\tbest: 0.9139625 (200)\ttotal: 20.8s\tremaining: 1m 22s\n",
      "220:\ttest: 0.9292129\ttest1: 0.9160992\tbest: 0.9160992 (220)\ttotal: 22.7s\tremaining: 1m 19s\n",
      "240:\ttest: 0.9315217\ttest1: 0.9182538\tbest: 0.9182538 (240)\ttotal: 24.6s\tremaining: 1m 17s\n",
      "260:\ttest: 0.9335442\ttest1: 0.9197108\tbest: 0.9197108 (260)\ttotal: 26.7s\tremaining: 1m 15s\n",
      "280:\ttest: 0.9354485\ttest1: 0.9209220\tbest: 0.9209220 (280)\ttotal: 28.6s\tremaining: 1m 13s\n",
      "300:\ttest: 0.9367505\ttest1: 0.9220330\tbest: 0.9220330 (300)\ttotal: 30.5s\tremaining: 1m 10s\n",
      "320:\ttest: 0.9386646\ttest1: 0.9231884\tbest: 0.9231884 (320)\ttotal: 32.7s\tremaining: 1m 9s\n",
      "340:\ttest: 0.9403907\ttest1: 0.9238718\tbest: 0.9238718 (340)\ttotal: 34.6s\tremaining: 1m 6s\n",
      "360:\ttest: 0.9427748\ttest1: 0.9251524\tbest: 0.9251524 (360)\ttotal: 36.5s\tremaining: 1m 4s\n",
      "380:\ttest: 0.9441903\ttest1: 0.9260345\tbest: 0.9260345 (380)\ttotal: 38.7s\tremaining: 1m 2s\n",
      "400:\ttest: 0.9461595\ttest1: 0.9269563\tbest: 0.9269563 (400)\ttotal: 40.7s\tremaining: 1m\n",
      "420:\ttest: 0.9475834\ttest1: 0.9276053\tbest: 0.9276095 (419)\ttotal: 42.8s\tremaining: 58.9s\n",
      "440:\ttest: 0.9488244\ttest1: 0.9282448\tbest: 0.9282448 (440)\ttotal: 45.1s\tremaining: 57.1s\n",
      "460:\ttest: 0.9500854\ttest1: 0.9293720\tbest: 0.9293720 (460)\ttotal: 47.2s\tremaining: 55.2s\n",
      "480:\ttest: 0.9514449\ttest1: 0.9298845\tbest: 0.9298845 (480)\ttotal: 49.3s\tremaining: 53.2s\n",
      "500:\ttest: 0.9525276\ttest1: 0.9305352\tbest: 0.9305352 (500)\ttotal: 51.6s\tremaining: 51.4s\n",
      "520:\ttest: 0.9538457\ttest1: 0.9311895\tbest: 0.9311895 (520)\ttotal: 53.9s\tremaining: 49.6s\n",
      "540:\ttest: 0.9551384\ttest1: 0.9320476\tbest: 0.9320476 (540)\ttotal: 56.5s\tremaining: 47.9s\n",
      "560:\ttest: 0.9558602\ttest1: 0.9322911\tbest: 0.9322911 (560)\ttotal: 58.7s\tremaining: 45.9s\n",
      "580:\ttest: 0.9566162\ttest1: 0.9322458\tbest: 0.9323572 (573)\ttotal: 1m\tremaining: 43.8s\n",
      "600:\ttest: 0.9574827\ttest1: 0.9326873\tbest: 0.9326873 (600)\ttotal: 1m 3s\tremaining: 42s\n",
      "620:\ttest: 0.9584152\ttest1: 0.9329860\tbest: 0.9330018 (619)\ttotal: 1m 5s\tremaining: 39.9s\n",
      "640:\ttest: 0.9596022\ttest1: 0.9335551\tbest: 0.9335551 (640)\ttotal: 1m 7s\tremaining: 37.9s\n",
      "660:\ttest: 0.9605270\ttest1: 0.9339799\tbest: 0.9339799 (660)\ttotal: 1m 9s\tremaining: 35.8s\n",
      "680:\ttest: 0.9614234\ttest1: 0.9349277\tbest: 0.9349452 (678)\ttotal: 1m 11s\tremaining: 33.6s\n",
      "700:\ttest: 0.9620192\ttest1: 0.9351510\tbest: 0.9351510 (700)\ttotal: 1m 14s\tremaining: 31.6s\n",
      "Stopped by overfitting detector  (10 iterations wait)\n",
      "\n",
      "bestTest = 0.9352763276\n",
      "bestIteration = 706\n",
      "\n",
      "Shrink model to first 707 iterations.\n"
     ]
    }
   ],
   "source": [
    "m_cb_cat=m_cb.fit(\n",
    "    X_train, y_train,\n",
    "    eval_set=[(X_train, y_train), (X_test, y_test)],\n",
    "    early_stopping_rounds=10,\n",
    "    verbose_eval=20)"
   ]
  },
  {
   "cell_type": "markdown",
   "metadata": {},
   "source": [
    "Задание 9: обработать категориальные признаки встроенным методом в CatBoost. Выполнить задание 7. Сделать выводы о качестве работы алгоритма, по сравнению с пунктом 8."
   ]
  },
  {
   "cell_type": "code",
   "execution_count": 579,
   "metadata": {},
   "outputs": [],
   "source": [
    "m_cb = cb.CatBoostClassifier(eval_metric='AUC')"
   ]
  },
  {
   "cell_type": "code",
   "execution_count": 580,
   "metadata": {},
   "outputs": [],
   "source": [
    "X_cat=X.copy()\n",
    "X_cat[cat]=X_cat[cat].fillna('n')\n",
    "X_train, X_test, y_train, y_test = train_test_split(X_cat, y, test_size=0.33, random_state=101)\n"
   ]
  },
  {
   "cell_type": "code",
   "execution_count": 581,
   "metadata": {},
   "outputs": [
    {
     "name": "stdout",
     "output_type": "stream",
     "text": [
      "Learning rate set to 0.103515\n",
      "0:\ttest: 0.6484582\ttest1: 0.6517917\tbest: 0.6517917 (0)\ttotal: 478ms\tremaining: 7m 57s\n",
      "20:\ttest: 0.8492552\ttest1: 0.8527958\tbest: 0.8527958 (20)\ttotal: 8.48s\tremaining: 6m 35s\n",
      "40:\ttest: 0.8844346\ttest1: 0.8843335\tbest: 0.8843335 (40)\ttotal: 16.6s\tremaining: 6m 27s\n",
      "60:\ttest: 0.8936784\ttest1: 0.8915809\tbest: 0.8915809 (60)\ttotal: 24.7s\tremaining: 6m 20s\n",
      "80:\ttest: 0.9025505\ttest1: 0.8975099\tbest: 0.8975099 (80)\ttotal: 33.2s\tremaining: 6m 16s\n",
      "100:\ttest: 0.9078979\ttest1: 0.9018364\tbest: 0.9018364 (100)\ttotal: 41.9s\tremaining: 6m 12s\n",
      "120:\ttest: 0.9123240\ttest1: 0.9043612\tbest: 0.9043612 (120)\ttotal: 50.6s\tremaining: 6m 7s\n",
      "140:\ttest: 0.9159171\ttest1: 0.9071949\tbest: 0.9071949 (140)\ttotal: 59.3s\tremaining: 6m 1s\n",
      "160:\ttest: 0.9186646\ttest1: 0.9092211\tbest: 0.9092211 (160)\ttotal: 1m 8s\tremaining: 5m 56s\n",
      "180:\ttest: 0.9216169\ttest1: 0.9113208\tbest: 0.9113208 (180)\ttotal: 1m 17s\tremaining: 5m 52s\n",
      "200:\ttest: 0.9245421\ttest1: 0.9136188\tbest: 0.9136819 (199)\ttotal: 1m 27s\tremaining: 5m 48s\n",
      "220:\ttest: 0.9263821\ttest1: 0.9153069\tbest: 0.9153642 (218)\ttotal: 1m 37s\tremaining: 5m 44s\n",
      "240:\ttest: 0.9288340\ttest1: 0.9167789\tbest: 0.9167789 (240)\ttotal: 1m 47s\tremaining: 5m 37s\n",
      "260:\ttest: 0.9309202\ttest1: 0.9182842\tbest: 0.9182842 (260)\ttotal: 1m 56s\tremaining: 5m 29s\n",
      "280:\ttest: 0.9326946\ttest1: 0.9195925\tbest: 0.9195925 (280)\ttotal: 2m 5s\tremaining: 5m 21s\n",
      "300:\ttest: 0.9351143\ttest1: 0.9212435\tbest: 0.9212435 (300)\ttotal: 2m 15s\tremaining: 5m 13s\n",
      "320:\ttest: 0.9370650\ttest1: 0.9222252\tbest: 0.9222252 (320)\ttotal: 2m 25s\tremaining: 5m 6s\n",
      "340:\ttest: 0.9388800\ttest1: 0.9231942\tbest: 0.9231942 (340)\ttotal: 2m 34s\tremaining: 4m 59s\n",
      "360:\ttest: 0.9399132\ttest1: 0.9239644\tbest: 0.9239644 (360)\ttotal: 2m 43s\tremaining: 4m 50s\n",
      "380:\ttest: 0.9416142\ttest1: 0.9249972\tbest: 0.9249972 (380)\ttotal: 2m 53s\tremaining: 4m 41s\n",
      "400:\ttest: 0.9428601\ttest1: 0.9254203\tbest: 0.9254203 (400)\ttotal: 3m 3s\tremaining: 4m 33s\n",
      "420:\ttest: 0.9440788\ttest1: 0.9261838\tbest: 0.9261838 (420)\ttotal: 3m 12s\tremaining: 4m 25s\n",
      "440:\ttest: 0.9453106\ttest1: 0.9270105\tbest: 0.9270105 (440)\ttotal: 3m 22s\tremaining: 4m 16s\n",
      "460:\ttest: 0.9464323\ttest1: 0.9277803\tbest: 0.9277803 (460)\ttotal: 3m 31s\tremaining: 4m 7s\n",
      "480:\ttest: 0.9479464\ttest1: 0.9284994\tbest: 0.9284994 (480)\ttotal: 3m 41s\tremaining: 3m 58s\n",
      "500:\ttest: 0.9485668\ttest1: 0.9287926\tbest: 0.9287998 (499)\ttotal: 3m 51s\tremaining: 3m 50s\n",
      "520:\ttest: 0.9493824\ttest1: 0.9293648\tbest: 0.9293652 (518)\ttotal: 4m\tremaining: 3m 41s\n",
      "540:\ttest: 0.9507428\ttest1: 0.9303221\tbest: 0.9303221 (540)\ttotal: 4m 10s\tremaining: 3m 32s\n",
      "560:\ttest: 0.9519472\ttest1: 0.9308341\tbest: 0.9308341 (560)\ttotal: 4m 20s\tremaining: 3m 23s\n",
      "580:\ttest: 0.9528138\ttest1: 0.9312477\tbest: 0.9312548 (579)\ttotal: 4m 30s\tremaining: 3m 14s\n",
      "600:\ttest: 0.9538249\ttest1: 0.9315685\tbest: 0.9315760 (597)\ttotal: 4m 39s\tremaining: 3m 5s\n",
      "620:\ttest: 0.9548735\ttest1: 0.9322706\tbest: 0.9322706 (620)\ttotal: 4m 49s\tremaining: 2m 56s\n",
      "640:\ttest: 0.9559645\ttest1: 0.9328681\tbest: 0.9328763 (639)\ttotal: 4m 59s\tremaining: 2m 47s\n",
      "660:\ttest: 0.9567926\ttest1: 0.9332654\tbest: 0.9332654 (660)\ttotal: 5m 9s\tremaining: 2m 38s\n",
      "680:\ttest: 0.9576054\ttest1: 0.9335656\tbest: 0.9335710 (676)\ttotal: 5m 19s\tremaining: 2m 29s\n",
      "700:\ttest: 0.9587908\ttest1: 0.9342114\tbest: 0.9342243 (697)\ttotal: 5m 29s\tremaining: 2m 20s\n",
      "720:\ttest: 0.9594122\ttest1: 0.9346966\tbest: 0.9346966 (720)\ttotal: 5m 39s\tremaining: 2m 11s\n",
      "Stopped by overfitting detector  (10 iterations wait)\n",
      "\n",
      "bestTest = 0.9349141145\n",
      "bestIteration = 722\n",
      "\n",
      "Shrink model to first 723 iterations.\n"
     ]
    }
   ],
   "source": [
    "m_cb_cat_in=m_cb.fit(\n",
    "    X_train, y_train,\n",
    "    cat_features =cat ,\n",
    "    eval_set=[(X_train, y_train), (X_test, y_test)],\n",
    "    early_stopping_rounds=10,\n",
    "    verbose_eval=20)"
   ]
  },
  {
   "cell_type": "code",
   "execution_count": 469,
   "metadata": {},
   "outputs": [],
   "source": [
    "# Качество хуже\n"
   ]
  },
  {
   "cell_type": "markdown",
   "metadata": {},
   "source": [
    "Задание 10: построить ROC-кривую для всех построенных алгоритмов на обучающей и тестовой выборке. Сделать выводы о работе алгоритмов с точки зрения качества на тестовой выборке и с точки зрения переобучения."
   ]
  },
  {
   "cell_type": "code",
   "execution_count": 589,
   "metadata": {},
   "outputs": [],
   "source": [
    "A={'xgboost':[('num',train_num, m_xgb_num),('cat',train_cat, m_xgb_cat),()],\n",
    "   'lgbm':[('num',train_num, m_lgb_num),('cat',train_cat,m_lgb_cat),('cat_in',X_lgbm_cat,m_lgb_cat_in)],\n",
    "   'catboost':[('num',train_num, m_cb_num),('cat',train_cat,m_cb_cat),('cat_in',X_cat,m_cb_cat_in)]}"
   ]
  },
  {
   "cell_type": "code",
   "execution_count": 744,
   "metadata": {},
   "outputs": [],
   "source": [
    "def roc_auc_plot(i,train,name,alg):\n",
    "   \n",
    "    X_train, X_test, y_train, y_test = train_test_split(train, y, test_size=0.33, random_state=101)\n",
    "    pred_train=alg.predict_proba(X_train)[:,1]\n",
    "    pred_test=alg.predict_proba(X_test)[:,1]\n",
    "    fpr_t, tpr_t, thresholds_t = roc_curve(y_train,pred_train)  \n",
    "    fpr_v, tpr_v, thresholds_v = roc_curve(y_test,pred_test)\n",
    "    \n",
    "    ax[i].set_title(name)\n",
    "    ax[i].plot(fpr_t, tpr_t, c='g',label='train')\n",
    "    ax[i].plot(fpr_v, tpr_v, c='b', label='test')\n",
    "    ax[i].plot([0,1],[0,1], c='y', ls='--')\n",
    "    ax[i].set_xlabel('TPR')\n",
    "    ax[i].set_ylabel('FPR')\n",
    "    ax[i].legend()\n",
    "    "
   ]
  },
  {
   "cell_type": "code",
   "execution_count": 873,
   "metadata": {},
   "outputs": [
    {
     "data": {
      "image/png": "[encoded data removed]",
      "text/plain": [
       "<Figure size 1152x1152 with 9 Axes>"
      ]
     },
     "metadata": {
      "needs_background": "light"
     },
     "output_type": "display_data"
    }
   ],
   "source": [
    "fig, axes = plt.subplots(3, 3, figsize=(16, 16))\n",
    "ax=axes.flatten()\n",
    "i=0\n",
    "for alg_name, alg_par in A.items():\n",
    "    for par in alg_par:\n",
    "        if par:\n",
    "            roc_auc_plot(i,par[1],(alg_name+'_'+par[0]),par[2])\n",
    "        i+=1"
   ]
  },
  {
   "cell_type": "code",
   "execution_count": 593,
   "metadata": {},
   "outputs": [],
   "source": [
    "# Из \"коробки\" лучшие показатели на тесте дает xgboost, он же сильнее других склонен к переобучению.\n",
    "# lgbm дает средние показатели, у catboost наименьшая разница между тестом и трейном."
   ]
  },
  {
   "cell_type": "code",
   "execution_count": null,
   "metadata": {},
   "outputs": [],
   "source": []
  },
  {
   "cell_type": "markdown",
   "metadata": {},
   "source": [
    "Задание 1: Построить график распределения времени совершения транзакции для обучающей / тестовой выборки, сделать выводы о том, как разбиты данные и какие виды валидации могут подойти для данной задачи."
   ]
  },
  {
   "cell_type": "code",
   "execution_count": 601,
   "metadata": {},
   "outputs": [],
   "source": [
    "X_train, X_test, y_train, y_test = train_test_split(X, y, test_size=0.33, random_state=101)"
   ]
  },
  {
   "cell_type": "code",
   "execution_count": 742,
   "metadata": {},
   "outputs": [
    {
     "data": {
      "text/plain": [
       "Text(0.5, 1.0, 'test')"
      ]
     },
     "execution_count": 742,
     "metadata": {},
     "output_type": "execute_result"
    },
    {
     "data": {
      "image/png": "[encoded data removed]",
      "text/plain": [
       "<Figure size 864x288 with 2 Axes>"
      ]
     },
     "metadata": {
      "needs_background": "light"
     },
     "output_type": "display_data"
    }
   ],
   "source": [
    "fig, axes = plt.subplots(1, 2, figsize=(12, 4))\n",
    "\n",
    "sns.distplot(X_train.TransactionDT,ax=axes[0])\n",
    "sns.distplot(X_test.TransactionDT,ax=axes[1])\n",
    "axes[0].set_title('train')\n",
    "axes[1].set_title('test')\n"
   ]
  },
  {
   "cell_type": "code",
   "execution_count": 605,
   "metadata": {},
   "outputs": [],
   "source": [
    "# Распределения на тесте и трейне идентичны. Для данной задачи подойдет валидация на стратифицированных фолдах."
   ]
  },
  {
   "cell_type": "markdown",
   "metadata": {},
   "source": [
    "Задание 2: построить scatter-plot зависимости суммы транзакции от времени совершения транзакции. Построить графики для обучающей выборки и для тестовой выборки, для обучающей выборки - построить как для целевой переменной = 0, так и для переменной = 1. Сделать выводы."
   ]
  },
  {
   "cell_type": "code",
   "execution_count": 746,
   "metadata": {},
   "outputs": [
    {
     "data": {
      "text/html": [
       "<div>\n",
       "<style scoped>\n",
       "    .dataframe tbody tr th:only-of-type {\n",
       "        vertical-align: middle;\n",
       "    }\n",
       "\n",
       "    .dataframe tbody tr th {\n",
       "        vertical-align: top;\n",
       "    }\n",
       "\n",
       "    .dataframe thead th {\n",
       "        text-align: right;\n",
       "    }\n",
       "</style>\n",
       "<table border=\"1\" class=\"dataframe\">\n",
       "  <thead>\n",
       "    <tr style=\"text-align: right;\">\n",
       "      <th></th>\n",
       "      <th>TransactionID</th>\n",
       "      <th>isFraud</th>\n",
       "      <th>TransactionDT</th>\n",
       "      <th>TransactionAmt</th>\n",
       "      <th>ProductCD</th>\n",
       "      <th>card1</th>\n",
       "      <th>card2</th>\n",
       "      <th>card3</th>\n",
       "      <th>card4</th>\n",
       "      <th>card5</th>\n",
       "      <th>...</th>\n",
       "      <th>V330</th>\n",
       "      <th>V331</th>\n",
       "      <th>V332</th>\n",
       "      <th>V333</th>\n",
       "      <th>V334</th>\n",
       "      <th>V335</th>\n",
       "      <th>V336</th>\n",
       "      <th>V337</th>\n",
       "      <th>V338</th>\n",
       "      <th>V339</th>\n",
       "    </tr>\n",
       "  </thead>\n",
       "  <tbody>\n",
       "    <tr>\n",
       "      <th>0</th>\n",
       "      <td>2987000</td>\n",
       "      <td>0</td>\n",
       "      <td>86400</td>\n",
       "      <td>68.50</td>\n",
       "      <td>W</td>\n",
       "      <td>13926</td>\n",
       "      <td>NaN</td>\n",
       "      <td>150.0</td>\n",
       "      <td>discover</td>\n",
       "      <td>142.0</td>\n",
       "      <td>...</td>\n",
       "      <td>NaN</td>\n",
       "      <td>NaN</td>\n",
       "      <td>NaN</td>\n",
       "      <td>NaN</td>\n",
       "      <td>NaN</td>\n",
       "      <td>NaN</td>\n",
       "      <td>NaN</td>\n",
       "      <td>NaN</td>\n",
       "      <td>NaN</td>\n",
       "      <td>NaN</td>\n",
       "    </tr>\n",
       "    <tr>\n",
       "      <th>1</th>\n",
       "      <td>2987001</td>\n",
       "      <td>0</td>\n",
       "      <td>86401</td>\n",
       "      <td>29.00</td>\n",
       "      <td>W</td>\n",
       "      <td>2755</td>\n",
       "      <td>404.0</td>\n",
       "      <td>150.0</td>\n",
       "      <td>mastercard</td>\n",
       "      <td>102.0</td>\n",
       "      <td>...</td>\n",
       "      <td>NaN</td>\n",
       "      <td>NaN</td>\n",
       "      <td>NaN</td>\n",
       "      <td>NaN</td>\n",
       "      <td>NaN</td>\n",
       "      <td>NaN</td>\n",
       "      <td>NaN</td>\n",
       "      <td>NaN</td>\n",
       "      <td>NaN</td>\n",
       "      <td>NaN</td>\n",
       "    </tr>\n",
       "    <tr>\n",
       "      <th>2</th>\n",
       "      <td>2987002</td>\n",
       "      <td>0</td>\n",
       "      <td>86469</td>\n",
       "      <td>59.00</td>\n",
       "      <td>W</td>\n",
       "      <td>4663</td>\n",
       "      <td>490.0</td>\n",
       "      <td>150.0</td>\n",
       "      <td>visa</td>\n",
       "      <td>166.0</td>\n",
       "      <td>...</td>\n",
       "      <td>NaN</td>\n",
       "      <td>NaN</td>\n",
       "      <td>NaN</td>\n",
       "      <td>NaN</td>\n",
       "      <td>NaN</td>\n",
       "      <td>NaN</td>\n",
       "      <td>NaN</td>\n",
       "      <td>NaN</td>\n",
       "      <td>NaN</td>\n",
       "      <td>NaN</td>\n",
       "    </tr>\n",
       "    <tr>\n",
       "      <th>3</th>\n",
       "      <td>2987003</td>\n",
       "      <td>0</td>\n",
       "      <td>86499</td>\n",
       "      <td>50.00</td>\n",
       "      <td>W</td>\n",
       "      <td>18132</td>\n",
       "      <td>567.0</td>\n",
       "      <td>150.0</td>\n",
       "      <td>mastercard</td>\n",
       "      <td>117.0</td>\n",
       "      <td>...</td>\n",
       "      <td>NaN</td>\n",
       "      <td>NaN</td>\n",
       "      <td>NaN</td>\n",
       "      <td>NaN</td>\n",
       "      <td>NaN</td>\n",
       "      <td>NaN</td>\n",
       "      <td>NaN</td>\n",
       "      <td>NaN</td>\n",
       "      <td>NaN</td>\n",
       "      <td>NaN</td>\n",
       "    </tr>\n",
       "    <tr>\n",
       "      <th>4</th>\n",
       "      <td>2987004</td>\n",
       "      <td>0</td>\n",
       "      <td>86506</td>\n",
       "      <td>50.00</td>\n",
       "      <td>H</td>\n",
       "      <td>4497</td>\n",
       "      <td>514.0</td>\n",
       "      <td>150.0</td>\n",
       "      <td>mastercard</td>\n",
       "      <td>102.0</td>\n",
       "      <td>...</td>\n",
       "      <td>0.0</td>\n",
       "      <td>0.0</td>\n",
       "      <td>0.0</td>\n",
       "      <td>0.0</td>\n",
       "      <td>0.0</td>\n",
       "      <td>0.0</td>\n",
       "      <td>0.0</td>\n",
       "      <td>0.0</td>\n",
       "      <td>0.0</td>\n",
       "      <td>0.0</td>\n",
       "    </tr>\n",
       "    <tr>\n",
       "      <th>...</th>\n",
       "      <td>...</td>\n",
       "      <td>...</td>\n",
       "      <td>...</td>\n",
       "      <td>...</td>\n",
       "      <td>...</td>\n",
       "      <td>...</td>\n",
       "      <td>...</td>\n",
       "      <td>...</td>\n",
       "      <td>...</td>\n",
       "      <td>...</td>\n",
       "      <td>...</td>\n",
       "      <td>...</td>\n",
       "      <td>...</td>\n",
       "      <td>...</td>\n",
       "      <td>...</td>\n",
       "      <td>...</td>\n",
       "      <td>...</td>\n",
       "      <td>...</td>\n",
       "      <td>...</td>\n",
       "      <td>...</td>\n",
       "      <td>...</td>\n",
       "    </tr>\n",
       "    <tr>\n",
       "      <th>179995</th>\n",
       "      <td>3166995</td>\n",
       "      <td>0</td>\n",
       "      <td>3958217</td>\n",
       "      <td>39.00</td>\n",
       "      <td>W</td>\n",
       "      <td>1877</td>\n",
       "      <td>310.0</td>\n",
       "      <td>150.0</td>\n",
       "      <td>mastercard</td>\n",
       "      <td>224.0</td>\n",
       "      <td>...</td>\n",
       "      <td>NaN</td>\n",
       "      <td>NaN</td>\n",
       "      <td>NaN</td>\n",
       "      <td>NaN</td>\n",
       "      <td>NaN</td>\n",
       "      <td>NaN</td>\n",
       "      <td>NaN</td>\n",
       "      <td>NaN</td>\n",
       "      <td>NaN</td>\n",
       "      <td>NaN</td>\n",
       "    </tr>\n",
       "    <tr>\n",
       "      <th>179996</th>\n",
       "      <td>3166996</td>\n",
       "      <td>0</td>\n",
       "      <td>3958237</td>\n",
       "      <td>59.95</td>\n",
       "      <td>W</td>\n",
       "      <td>10075</td>\n",
       "      <td>514.0</td>\n",
       "      <td>150.0</td>\n",
       "      <td>mastercard</td>\n",
       "      <td>224.0</td>\n",
       "      <td>...</td>\n",
       "      <td>NaN</td>\n",
       "      <td>NaN</td>\n",
       "      <td>NaN</td>\n",
       "      <td>NaN</td>\n",
       "      <td>NaN</td>\n",
       "      <td>NaN</td>\n",
       "      <td>NaN</td>\n",
       "      <td>NaN</td>\n",
       "      <td>NaN</td>\n",
       "      <td>NaN</td>\n",
       "    </tr>\n",
       "    <tr>\n",
       "      <th>179997</th>\n",
       "      <td>3166997</td>\n",
       "      <td>0</td>\n",
       "      <td>3958241</td>\n",
       "      <td>34.00</td>\n",
       "      <td>W</td>\n",
       "      <td>6053</td>\n",
       "      <td>122.0</td>\n",
       "      <td>150.0</td>\n",
       "      <td>mastercard</td>\n",
       "      <td>195.0</td>\n",
       "      <td>...</td>\n",
       "      <td>NaN</td>\n",
       "      <td>NaN</td>\n",
       "      <td>NaN</td>\n",
       "      <td>NaN</td>\n",
       "      <td>NaN</td>\n",
       "      <td>NaN</td>\n",
       "      <td>NaN</td>\n",
       "      <td>NaN</td>\n",
       "      <td>NaN</td>\n",
       "      <td>NaN</td>\n",
       "    </tr>\n",
       "    <tr>\n",
       "      <th>179998</th>\n",
       "      <td>3166998</td>\n",
       "      <td>0</td>\n",
       "      <td>3958260</td>\n",
       "      <td>59.00</td>\n",
       "      <td>W</td>\n",
       "      <td>7726</td>\n",
       "      <td>555.0</td>\n",
       "      <td>150.0</td>\n",
       "      <td>visa</td>\n",
       "      <td>226.0</td>\n",
       "      <td>...</td>\n",
       "      <td>NaN</td>\n",
       "      <td>NaN</td>\n",
       "      <td>NaN</td>\n",
       "      <td>NaN</td>\n",
       "      <td>NaN</td>\n",
       "      <td>NaN</td>\n",
       "      <td>NaN</td>\n",
       "      <td>NaN</td>\n",
       "      <td>NaN</td>\n",
       "      <td>NaN</td>\n",
       "    </tr>\n",
       "    <tr>\n",
       "      <th>179999</th>\n",
       "      <td>3166999</td>\n",
       "      <td>0</td>\n",
       "      <td>3958317</td>\n",
       "      <td>226.00</td>\n",
       "      <td>W</td>\n",
       "      <td>17480</td>\n",
       "      <td>528.0</td>\n",
       "      <td>150.0</td>\n",
       "      <td>visa</td>\n",
       "      <td>226.0</td>\n",
       "      <td>...</td>\n",
       "      <td>NaN</td>\n",
       "      <td>NaN</td>\n",
       "      <td>NaN</td>\n",
       "      <td>NaN</td>\n",
       "      <td>NaN</td>\n",
       "      <td>NaN</td>\n",
       "      <td>NaN</td>\n",
       "      <td>NaN</td>\n",
       "      <td>NaN</td>\n",
       "      <td>NaN</td>\n",
       "    </tr>\n",
       "  </tbody>\n",
       "</table>\n",
       "<p>180000 rows × 394 columns</p>\n",
       "</div>"
      ],
      "text/plain": [
       "        TransactionID  isFraud  TransactionDT  TransactionAmt ProductCD  \\\n",
       "0             2987000        0          86400           68.50         W   \n",
       "1             2987001        0          86401           29.00         W   \n",
       "2             2987002        0          86469           59.00         W   \n",
       "3             2987003        0          86499           50.00         W   \n",
       "4             2987004        0          86506           50.00         H   \n",
       "...               ...      ...            ...             ...       ...   \n",
       "179995        3166995        0        3958217           39.00         W   \n",
       "179996        3166996        0        3958237           59.95         W   \n",
       "179997        3166997        0        3958241           34.00         W   \n",
       "179998        3166998        0        3958260           59.00         W   \n",
       "179999        3166999        0        3958317          226.00         W   \n",
       "\n",
       "        card1  card2  card3       card4  card5  ... V330  V331  V332  V333  \\\n",
       "0       13926    NaN  150.0    discover  142.0  ...  NaN   NaN   NaN   NaN   \n",
       "1        2755  404.0  150.0  mastercard  102.0  ...  NaN   NaN   NaN   NaN   \n",
       "2        4663  490.0  150.0        visa  166.0  ...  NaN   NaN   NaN   NaN   \n",
       "3       18132  567.0  150.0  mastercard  117.0  ...  NaN   NaN   NaN   NaN   \n",
       "4        4497  514.0  150.0  mastercard  102.0  ...  0.0   0.0   0.0   0.0   \n",
       "...       ...    ...    ...         ...    ...  ...  ...   ...   ...   ...   \n",
       "179995   1877  310.0  150.0  mastercard  224.0  ...  NaN   NaN   NaN   NaN   \n",
       "179996  10075  514.0  150.0  mastercard  224.0  ...  NaN   NaN   NaN   NaN   \n",
       "179997   6053  122.0  150.0  mastercard  195.0  ...  NaN   NaN   NaN   NaN   \n",
       "179998   7726  555.0  150.0        visa  226.0  ...  NaN   NaN   NaN   NaN   \n",
       "179999  17480  528.0  150.0        visa  226.0  ...  NaN   NaN   NaN   NaN   \n",
       "\n",
       "        V334 V335 V336  V337  V338  V339  \n",
       "0        NaN  NaN  NaN   NaN   NaN   NaN  \n",
       "1        NaN  NaN  NaN   NaN   NaN   NaN  \n",
       "2        NaN  NaN  NaN   NaN   NaN   NaN  \n",
       "3        NaN  NaN  NaN   NaN   NaN   NaN  \n",
       "4        0.0  0.0  0.0   0.0   0.0   0.0  \n",
       "...      ...  ...  ...   ...   ...   ...  \n",
       "179995   NaN  NaN  NaN   NaN   NaN   NaN  \n",
       "179996   NaN  NaN  NaN   NaN   NaN   NaN  \n",
       "179997   NaN  NaN  NaN   NaN   NaN   NaN  \n",
       "179998   NaN  NaN  NaN   NaN   NaN   NaN  \n",
       "179999   NaN  NaN  NaN   NaN   NaN   NaN  \n",
       "\n",
       "[180000 rows x 394 columns]"
      ]
     },
     "execution_count": 746,
     "metadata": {},
     "output_type": "execute_result"
    }
   ],
   "source": [
    "train"
   ]
  },
  {
   "cell_type": "code",
   "execution_count": 646,
   "metadata": {},
   "outputs": [
    {
     "data": {
      "text/plain": [
       "Text(0, 0.5, 'TransactionAmt')"
      ]
     },
     "execution_count": 646,
     "metadata": {},
     "output_type": "execute_result"
    },
    {
     "data": {
      "image/png": "[encoded data removed]",
      "text/plain": [
       "<Figure size 1152x288 with 3 Axes>"
      ]
     },
     "metadata": {
      "needs_background": "light"
     },
     "output_type": "display_data"
    }
   ],
   "source": [
    "fig, axes = plt.subplots(1, 3, figsize=(16,4))\n",
    "ax1,ax2,ax3=axes.flatten()\n",
    "\n",
    "ax1.scatter(X_train[y_train==1].TransactionDT, X_train[y_train==1].TransactionAmt)\n",
    "ax2.scatter(X_train[y_train==0].TransactionDT, X_train[y_train==0].TransactionAmt)\n",
    "ax3.scatter(X_test.TransactionDT, X_test.TransactionAmt)\n",
    "\n",
    "ax1.set_title('train_1')\n",
    "ax2.set_title('train_0')\n",
    "ax3.set_title('test')\n",
    "\n",
    "ax1.set_xlabel('TransactionDT')\n",
    "ax2.set_xlabel('TransactionDT')\n",
    "ax3.set_xlabel('TransactionDT')\n",
    "\n",
    "ax1.set_ylabel('TransactionAmt')\n",
    "ax2.set_ylabel('TransactionAmt')\n",
    "ax3.set_ylabel('TransactionAmt')"
   ]
  },
  {
   "cell_type": "code",
   "execution_count": 647,
   "metadata": {},
   "outputs": [],
   "source": [
    "# Распределения идентичны, ярковыраженной зависимости не наблюдается, имеются выбросы."
   ]
  },
  {
   "cell_type": "markdown",
   "metadata": {},
   "source": [
    "Задание 3: построить распределение признака TransactionAmt в логарифмическом масштабе, сделать выводы о близости распредления к нормальному распределению. Построить распределение признака в логарифмическому масштабе для обучающей выборк и для тестовой выборки, сделать выводы."
   ]
  },
  {
   "cell_type": "code",
   "execution_count": 739,
   "metadata": {},
   "outputs": [
    {
     "data": {
      "text/plain": [
       "<AxesSubplot:xlabel='TransactionAmt', ylabel='Density'>"
      ]
     },
     "execution_count": 739,
     "metadata": {},
     "output_type": "execute_result"
    },
    {
     "data": {
      "image/png": "[encoded data removed]",
      "text/plain": [
       "<Figure size 432x288 with 1 Axes>"
      ]
     },
     "metadata": {
      "needs_background": "light"
     },
     "output_type": "display_data"
    }
   ],
   "source": [
    "sns.kdeplot(train.TransactionAmt,log_scale=True)"
   ]
  },
  {
   "cell_type": "code",
   "execution_count": 876,
   "metadata": {},
   "outputs": [],
   "source": [
    "# Приближается к нормальному, правый хвост тяжелый"
   ]
  },
  {
   "cell_type": "code",
   "execution_count": 743,
   "metadata": {},
   "outputs": [
    {
     "data": {
      "text/plain": [
       "Text(0.5, 1.0, 'test')"
      ]
     },
     "execution_count": 743,
     "metadata": {},
     "output_type": "execute_result"
    },
    {
     "data": {
      "image/png": "[encoded data removed]",
      "text/plain": [
       "<Figure size 720x288 with 2 Axes>"
      ]
     },
     "metadata": {
      "needs_background": "light"
     },
     "output_type": "display_data"
    }
   ],
   "source": [
    "fig, axes = plt.subplots(1, 2, figsize=(10, 4))\n",
    "\n",
    "sns.kdeplot(X_train.TransactionAmt,log_scale=True,ax=axes[0])\n",
    "sns.kdeplot(X_test.TransactionAmt,log_scale=True,ax=axes[1])\n",
    "axes[0].set_title('train')\n",
    "axes[1].set_title('test')"
   ]
  },
  {
   "cell_type": "code",
   "execution_count": 735,
   "metadata": {},
   "outputs": [],
   "source": [
    "# Идентично"
   ]
  },
  {
   "cell_type": "markdown",
   "metadata": {},
   "source": [
    "Задание 4: построить распределение признака целевой переменной в зависимости от значений категориальных признаков ProductCD, card4, card6. Сделать выводы."
   ]
  },
  {
   "cell_type": "code",
   "execution_count": 872,
   "metadata": {},
   "outputs": [
    {
     "data": {
      "image/png": "[encoded data removed]",
      "text/plain": [
       "<Figure size 420.5x360 with 1 Axes>"
      ]
     },
     "metadata": {
      "needs_background": "light"
     },
     "output_type": "display_data"
    }
   ],
   "source": [
    "\n",
    "sns.catplot(x='isFraud',\n",
    "            hue='ProductCD',\n",
    "            kind='count',\n",
    "            data=train);"
   ]
  },
  {
   "cell_type": "code",
   "execution_count": null,
   "metadata": {},
   "outputs": [],
   "source": [
    "# Наибольший объем приходится на 'W', наибольшая доля класса 1 - на 'C'."
   ]
  },
  {
   "cell_type": "code",
   "execution_count": 867,
   "metadata": {},
   "outputs": [
    {
     "data": {
      "image/png": "[encoded data removed]",
      "text/plain": [
       "<Figure size 484.625x360 with 1 Axes>"
      ]
     },
     "metadata": {
      "needs_background": "light"
     },
     "output_type": "display_data"
    }
   ],
   "source": [
    "sns.catplot(x='isFraud',\n",
    "            hue='card4',\n",
    "            kind='count',\n",
    "            data=train);"
   ]
  },
  {
   "cell_type": "code",
   "execution_count": 874,
   "metadata": {},
   "outputs": [],
   "source": [
    "# Доминируют visa  и mastercard, доли класса 1 в них примерно одинаковы."
   ]
  },
  {
   "cell_type": "code",
   "execution_count": 868,
   "metadata": {},
   "outputs": [
    {
     "data": {
      "image/png": "[encoded data removed]",
      "text/plain": [
       "<Figure size 466.5x360 with 1 Axes>"
      ]
     },
     "metadata": {
      "needs_background": "light"
     },
     "output_type": "display_data"
    }
   ],
   "source": [
    "sns.catplot(x='isFraud',\n",
    "            hue='card6',\n",
    "            kind='count',\n",
    "            data=train);"
   ]
  },
  {
   "cell_type": "code",
   "execution_count": 875,
   "metadata": {},
   "outputs": [],
   "source": [
    "# Доминируют debit и credit, в debit доля класса 1 больше."
   ]
  },
  {
   "cell_type": "code",
   "execution_count": null,
   "metadata": {},
   "outputs": [],
   "source": []
  }
 ],
 "metadata": {
  "kernelspec": {
   "display_name": "Python 3",
   "language": "python",
   "name": "python3"
  },
  "language_info": {
   "codemirror_mode": {
    "name": "ipython",
    "version": 3
   },
   "file_extension": ".py",
   "mimetype": "text/x-python",
   "name": "python",
   "nbconvert_exporter": "python",
   "pygments_lexer": "ipython3",
   "version": "3.8.5"
  }
 },
 "nbformat": 4,
 "nbformat_minor": 4
}
